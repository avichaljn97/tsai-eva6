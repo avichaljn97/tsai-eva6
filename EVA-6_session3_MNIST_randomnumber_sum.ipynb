{
  "nbformat": 4,
  "nbformat_minor": 0,
  "metadata": {
    "accelerator": "GPU",
    "colab": {
      "name": "Untitled0.ipynb",
      "provenance": [],
      "collapsed_sections": [],
      "authorship_tag": "ABX9TyOntWJgTgVA2cSm89RcepiX",
      "include_colab_link": true
    },
    "kernelspec": {
      "display_name": "Python 3",
      "name": "python3"
    },
    "language_info": {
      "name": "python"
    },
    "widgets": {
      "application/vnd.jupyter.widget-state+json": {
        "4bb91b390c514e8fb69fb0ec7b880ae0": {
          "model_module": "@jupyter-widgets/controls",
          "model_name": "HBoxModel",
          "state": {
            "_view_name": "HBoxView",
            "_dom_classes": [],
            "_model_name": "HBoxModel",
            "_view_module": "@jupyter-widgets/controls",
            "_model_module_version": "1.5.0",
            "_view_count": null,
            "_view_module_version": "1.5.0",
            "box_style": "",
            "layout": "IPY_MODEL_f765fcbd184f45fabccff20998e2ccce",
            "_model_module": "@jupyter-widgets/controls",
            "children": [
              "IPY_MODEL_117b2e33002e428bab362cddc47286cc",
              "IPY_MODEL_b22145081cb34ccf82e3c975ca5fbdac"
            ]
          }
        },
        "f765fcbd184f45fabccff20998e2ccce": {
          "model_module": "@jupyter-widgets/base",
          "model_name": "LayoutModel",
          "state": {
            "_view_name": "LayoutView",
            "grid_template_rows": null,
            "right": null,
            "justify_content": null,
            "_view_module": "@jupyter-widgets/base",
            "overflow": null,
            "_model_module_version": "1.2.0",
            "_view_count": null,
            "flex_flow": null,
            "width": null,
            "min_width": null,
            "border": null,
            "align_items": null,
            "bottom": null,
            "_model_module": "@jupyter-widgets/base",
            "top": null,
            "grid_column": null,
            "overflow_y": null,
            "overflow_x": null,
            "grid_auto_flow": null,
            "grid_area": null,
            "grid_template_columns": null,
            "flex": null,
            "_model_name": "LayoutModel",
            "justify_items": null,
            "grid_row": null,
            "max_height": null,
            "align_content": null,
            "visibility": null,
            "align_self": null,
            "height": null,
            "min_height": null,
            "padding": null,
            "grid_auto_rows": null,
            "grid_gap": null,
            "max_width": null,
            "order": null,
            "_view_module_version": "1.2.0",
            "grid_template_areas": null,
            "object_position": null,
            "object_fit": null,
            "grid_auto_columns": null,
            "margin": null,
            "display": null,
            "left": null
          }
        },
        "117b2e33002e428bab362cddc47286cc": {
          "model_module": "@jupyter-widgets/controls",
          "model_name": "FloatProgressModel",
          "state": {
            "_view_name": "ProgressView",
            "style": "IPY_MODEL_cbdf41cf740f4dce822dbe8ed28d8a0f",
            "_dom_classes": [],
            "description": "",
            "_model_name": "FloatProgressModel",
            "bar_style": "success",
            "max": 9912422,
            "_view_module": "@jupyter-widgets/controls",
            "_model_module_version": "1.5.0",
            "value": 9912422,
            "_view_count": null,
            "_view_module_version": "1.5.0",
            "orientation": "horizontal",
            "min": 0,
            "description_tooltip": null,
            "_model_module": "@jupyter-widgets/controls",
            "layout": "IPY_MODEL_6f2687b2e93a4062a87ed2aae4466a75"
          }
        },
        "b22145081cb34ccf82e3c975ca5fbdac": {
          "model_module": "@jupyter-widgets/controls",
          "model_name": "HTMLModel",
          "state": {
            "_view_name": "HTMLView",
            "style": "IPY_MODEL_a3e10f0df54d447b9f36a723a2efcdff",
            "_dom_classes": [],
            "description": "",
            "_model_name": "HTMLModel",
            "placeholder": "​",
            "_view_module": "@jupyter-widgets/controls",
            "_model_module_version": "1.5.0",
            "value": " 9913344/? [18:35&lt;00:00, 8884.81it/s]",
            "_view_count": null,
            "_view_module_version": "1.5.0",
            "description_tooltip": null,
            "_model_module": "@jupyter-widgets/controls",
            "layout": "IPY_MODEL_15d49192cec84f609bc4696e6110b224"
          }
        },
        "cbdf41cf740f4dce822dbe8ed28d8a0f": {
          "model_module": "@jupyter-widgets/controls",
          "model_name": "ProgressStyleModel",
          "state": {
            "_view_name": "StyleView",
            "_model_name": "ProgressStyleModel",
            "description_width": "initial",
            "_view_module": "@jupyter-widgets/base",
            "_model_module_version": "1.5.0",
            "_view_count": null,
            "_view_module_version": "1.2.0",
            "bar_color": null,
            "_model_module": "@jupyter-widgets/controls"
          }
        },
        "6f2687b2e93a4062a87ed2aae4466a75": {
          "model_module": "@jupyter-widgets/base",
          "model_name": "LayoutModel",
          "state": {
            "_view_name": "LayoutView",
            "grid_template_rows": null,
            "right": null,
            "justify_content": null,
            "_view_module": "@jupyter-widgets/base",
            "overflow": null,
            "_model_module_version": "1.2.0",
            "_view_count": null,
            "flex_flow": null,
            "width": null,
            "min_width": null,
            "border": null,
            "align_items": null,
            "bottom": null,
            "_model_module": "@jupyter-widgets/base",
            "top": null,
            "grid_column": null,
            "overflow_y": null,
            "overflow_x": null,
            "grid_auto_flow": null,
            "grid_area": null,
            "grid_template_columns": null,
            "flex": null,
            "_model_name": "LayoutModel",
            "justify_items": null,
            "grid_row": null,
            "max_height": null,
            "align_content": null,
            "visibility": null,
            "align_self": null,
            "height": null,
            "min_height": null,
            "padding": null,
            "grid_auto_rows": null,
            "grid_gap": null,
            "max_width": null,
            "order": null,
            "_view_module_version": "1.2.0",
            "grid_template_areas": null,
            "object_position": null,
            "object_fit": null,
            "grid_auto_columns": null,
            "margin": null,
            "display": null,
            "left": null
          }
        },
        "a3e10f0df54d447b9f36a723a2efcdff": {
          "model_module": "@jupyter-widgets/controls",
          "model_name": "DescriptionStyleModel",
          "state": {
            "_view_name": "StyleView",
            "_model_name": "DescriptionStyleModel",
            "description_width": "",
            "_view_module": "@jupyter-widgets/base",
            "_model_module_version": "1.5.0",
            "_view_count": null,
            "_view_module_version": "1.2.0",
            "_model_module": "@jupyter-widgets/controls"
          }
        },
        "15d49192cec84f609bc4696e6110b224": {
          "model_module": "@jupyter-widgets/base",
          "model_name": "LayoutModel",
          "state": {
            "_view_name": "LayoutView",
            "grid_template_rows": null,
            "right": null,
            "justify_content": null,
            "_view_module": "@jupyter-widgets/base",
            "overflow": null,
            "_model_module_version": "1.2.0",
            "_view_count": null,
            "flex_flow": null,
            "width": null,
            "min_width": null,
            "border": null,
            "align_items": null,
            "bottom": null,
            "_model_module": "@jupyter-widgets/base",
            "top": null,
            "grid_column": null,
            "overflow_y": null,
            "overflow_x": null,
            "grid_auto_flow": null,
            "grid_area": null,
            "grid_template_columns": null,
            "flex": null,
            "_model_name": "LayoutModel",
            "justify_items": null,
            "grid_row": null,
            "max_height": null,
            "align_content": null,
            "visibility": null,
            "align_self": null,
            "height": null,
            "min_height": null,
            "padding": null,
            "grid_auto_rows": null,
            "grid_gap": null,
            "max_width": null,
            "order": null,
            "_view_module_version": "1.2.0",
            "grid_template_areas": null,
            "object_position": null,
            "object_fit": null,
            "grid_auto_columns": null,
            "margin": null,
            "display": null,
            "left": null
          }
        },
        "d2659a56ef6a490081019bdb197ed357": {
          "model_module": "@jupyter-widgets/controls",
          "model_name": "HBoxModel",
          "state": {
            "_view_name": "HBoxView",
            "_dom_classes": [],
            "_model_name": "HBoxModel",
            "_view_module": "@jupyter-widgets/controls",
            "_model_module_version": "1.5.0",
            "_view_count": null,
            "_view_module_version": "1.5.0",
            "box_style": "",
            "layout": "IPY_MODEL_c991b5e4ba954ddca3fb4e05e4ff4a95",
            "_model_module": "@jupyter-widgets/controls",
            "children": [
              "IPY_MODEL_ad2e9b1b37bc42da87be31812d08be6a",
              "IPY_MODEL_3f941b9dda18428681a917a6d288d7fe"
            ]
          }
        },
        "c991b5e4ba954ddca3fb4e05e4ff4a95": {
          "model_module": "@jupyter-widgets/base",
          "model_name": "LayoutModel",
          "state": {
            "_view_name": "LayoutView",
            "grid_template_rows": null,
            "right": null,
            "justify_content": null,
            "_view_module": "@jupyter-widgets/base",
            "overflow": null,
            "_model_module_version": "1.2.0",
            "_view_count": null,
            "flex_flow": null,
            "width": null,
            "min_width": null,
            "border": null,
            "align_items": null,
            "bottom": null,
            "_model_module": "@jupyter-widgets/base",
            "top": null,
            "grid_column": null,
            "overflow_y": null,
            "overflow_x": null,
            "grid_auto_flow": null,
            "grid_area": null,
            "grid_template_columns": null,
            "flex": null,
            "_model_name": "LayoutModel",
            "justify_items": null,
            "grid_row": null,
            "max_height": null,
            "align_content": null,
            "visibility": null,
            "align_self": null,
            "height": null,
            "min_height": null,
            "padding": null,
            "grid_auto_rows": null,
            "grid_gap": null,
            "max_width": null,
            "order": null,
            "_view_module_version": "1.2.0",
            "grid_template_areas": null,
            "object_position": null,
            "object_fit": null,
            "grid_auto_columns": null,
            "margin": null,
            "display": null,
            "left": null
          }
        },
        "ad2e9b1b37bc42da87be31812d08be6a": {
          "model_module": "@jupyter-widgets/controls",
          "model_name": "FloatProgressModel",
          "state": {
            "_view_name": "ProgressView",
            "style": "IPY_MODEL_30384b417b3b49e7a49deabc3181bb2c",
            "_dom_classes": [],
            "description": "",
            "_model_name": "FloatProgressModel",
            "bar_style": "success",
            "max": 28881,
            "_view_module": "@jupyter-widgets/controls",
            "_model_module_version": "1.5.0",
            "value": 28881,
            "_view_count": null,
            "_view_module_version": "1.5.0",
            "orientation": "horizontal",
            "min": 0,
            "description_tooltip": null,
            "_model_module": "@jupyter-widgets/controls",
            "layout": "IPY_MODEL_c91f4356385b4b05b7ad1cd5efd3cbbb"
          }
        },
        "3f941b9dda18428681a917a6d288d7fe": {
          "model_module": "@jupyter-widgets/controls",
          "model_name": "HTMLModel",
          "state": {
            "_view_name": "HTMLView",
            "style": "IPY_MODEL_3f083ad886b7401eb2cbe00d68b8a871",
            "_dom_classes": [],
            "description": "",
            "_model_name": "HTMLModel",
            "placeholder": "​",
            "_view_module": "@jupyter-widgets/controls",
            "_model_module_version": "1.5.0",
            "value": " 29696/? [00:00&lt;00:00, 68277.79it/s]",
            "_view_count": null,
            "_view_module_version": "1.5.0",
            "description_tooltip": null,
            "_model_module": "@jupyter-widgets/controls",
            "layout": "IPY_MODEL_0c8ff5575fc54912b3ef8065b1cd84e1"
          }
        },
        "30384b417b3b49e7a49deabc3181bb2c": {
          "model_module": "@jupyter-widgets/controls",
          "model_name": "ProgressStyleModel",
          "state": {
            "_view_name": "StyleView",
            "_model_name": "ProgressStyleModel",
            "description_width": "initial",
            "_view_module": "@jupyter-widgets/base",
            "_model_module_version": "1.5.0",
            "_view_count": null,
            "_view_module_version": "1.2.0",
            "bar_color": null,
            "_model_module": "@jupyter-widgets/controls"
          }
        },
        "c91f4356385b4b05b7ad1cd5efd3cbbb": {
          "model_module": "@jupyter-widgets/base",
          "model_name": "LayoutModel",
          "state": {
            "_view_name": "LayoutView",
            "grid_template_rows": null,
            "right": null,
            "justify_content": null,
            "_view_module": "@jupyter-widgets/base",
            "overflow": null,
            "_model_module_version": "1.2.0",
            "_view_count": null,
            "flex_flow": null,
            "width": null,
            "min_width": null,
            "border": null,
            "align_items": null,
            "bottom": null,
            "_model_module": "@jupyter-widgets/base",
            "top": null,
            "grid_column": null,
            "overflow_y": null,
            "overflow_x": null,
            "grid_auto_flow": null,
            "grid_area": null,
            "grid_template_columns": null,
            "flex": null,
            "_model_name": "LayoutModel",
            "justify_items": null,
            "grid_row": null,
            "max_height": null,
            "align_content": null,
            "visibility": null,
            "align_self": null,
            "height": null,
            "min_height": null,
            "padding": null,
            "grid_auto_rows": null,
            "grid_gap": null,
            "max_width": null,
            "order": null,
            "_view_module_version": "1.2.0",
            "grid_template_areas": null,
            "object_position": null,
            "object_fit": null,
            "grid_auto_columns": null,
            "margin": null,
            "display": null,
            "left": null
          }
        },
        "3f083ad886b7401eb2cbe00d68b8a871": {
          "model_module": "@jupyter-widgets/controls",
          "model_name": "DescriptionStyleModel",
          "state": {
            "_view_name": "StyleView",
            "_model_name": "DescriptionStyleModel",
            "description_width": "",
            "_view_module": "@jupyter-widgets/base",
            "_model_module_version": "1.5.0",
            "_view_count": null,
            "_view_module_version": "1.2.0",
            "_model_module": "@jupyter-widgets/controls"
          }
        },
        "0c8ff5575fc54912b3ef8065b1cd84e1": {
          "model_module": "@jupyter-widgets/base",
          "model_name": "LayoutModel",
          "state": {
            "_view_name": "LayoutView",
            "grid_template_rows": null,
            "right": null,
            "justify_content": null,
            "_view_module": "@jupyter-widgets/base",
            "overflow": null,
            "_model_module_version": "1.2.0",
            "_view_count": null,
            "flex_flow": null,
            "width": null,
            "min_width": null,
            "border": null,
            "align_items": null,
            "bottom": null,
            "_model_module": "@jupyter-widgets/base",
            "top": null,
            "grid_column": null,
            "overflow_y": null,
            "overflow_x": null,
            "grid_auto_flow": null,
            "grid_area": null,
            "grid_template_columns": null,
            "flex": null,
            "_model_name": "LayoutModel",
            "justify_items": null,
            "grid_row": null,
            "max_height": null,
            "align_content": null,
            "visibility": null,
            "align_self": null,
            "height": null,
            "min_height": null,
            "padding": null,
            "grid_auto_rows": null,
            "grid_gap": null,
            "max_width": null,
            "order": null,
            "_view_module_version": "1.2.0",
            "grid_template_areas": null,
            "object_position": null,
            "object_fit": null,
            "grid_auto_columns": null,
            "margin": null,
            "display": null,
            "left": null
          }
        },
        "b0e78fb21ad948d38082f88e3a4295a3": {
          "model_module": "@jupyter-widgets/controls",
          "model_name": "HBoxModel",
          "state": {
            "_view_name": "HBoxView",
            "_dom_classes": [],
            "_model_name": "HBoxModel",
            "_view_module": "@jupyter-widgets/controls",
            "_model_module_version": "1.5.0",
            "_view_count": null,
            "_view_module_version": "1.5.0",
            "box_style": "",
            "layout": "IPY_MODEL_904b34a109e3478e835c0f05e0bc4221",
            "_model_module": "@jupyter-widgets/controls",
            "children": [
              "IPY_MODEL_c89bd873bdd34e1f950d12d97c9f0986",
              "IPY_MODEL_bdeedcc9815d4b7791e2bb6f9589e8cc"
            ]
          }
        },
        "904b34a109e3478e835c0f05e0bc4221": {
          "model_module": "@jupyter-widgets/base",
          "model_name": "LayoutModel",
          "state": {
            "_view_name": "LayoutView",
            "grid_template_rows": null,
            "right": null,
            "justify_content": null,
            "_view_module": "@jupyter-widgets/base",
            "overflow": null,
            "_model_module_version": "1.2.0",
            "_view_count": null,
            "flex_flow": null,
            "width": null,
            "min_width": null,
            "border": null,
            "align_items": null,
            "bottom": null,
            "_model_module": "@jupyter-widgets/base",
            "top": null,
            "grid_column": null,
            "overflow_y": null,
            "overflow_x": null,
            "grid_auto_flow": null,
            "grid_area": null,
            "grid_template_columns": null,
            "flex": null,
            "_model_name": "LayoutModel",
            "justify_items": null,
            "grid_row": null,
            "max_height": null,
            "align_content": null,
            "visibility": null,
            "align_self": null,
            "height": null,
            "min_height": null,
            "padding": null,
            "grid_auto_rows": null,
            "grid_gap": null,
            "max_width": null,
            "order": null,
            "_view_module_version": "1.2.0",
            "grid_template_areas": null,
            "object_position": null,
            "object_fit": null,
            "grid_auto_columns": null,
            "margin": null,
            "display": null,
            "left": null
          }
        },
        "c89bd873bdd34e1f950d12d97c9f0986": {
          "model_module": "@jupyter-widgets/controls",
          "model_name": "FloatProgressModel",
          "state": {
            "_view_name": "ProgressView",
            "style": "IPY_MODEL_c4e41daaddde494eab11e7726305172a",
            "_dom_classes": [],
            "description": "",
            "_model_name": "FloatProgressModel",
            "bar_style": "success",
            "max": 1648877,
            "_view_module": "@jupyter-widgets/controls",
            "_model_module_version": "1.5.0",
            "value": 1648877,
            "_view_count": null,
            "_view_module_version": "1.5.0",
            "orientation": "horizontal",
            "min": 0,
            "description_tooltip": null,
            "_model_module": "@jupyter-widgets/controls",
            "layout": "IPY_MODEL_4341125f25f745a0bb3268c767a28fac"
          }
        },
        "bdeedcc9815d4b7791e2bb6f9589e8cc": {
          "model_module": "@jupyter-widgets/controls",
          "model_name": "HTMLModel",
          "state": {
            "_view_name": "HTMLView",
            "style": "IPY_MODEL_b765a383f8da49c38b2e18b9076965c5",
            "_dom_classes": [],
            "description": "",
            "_model_name": "HTMLModel",
            "placeholder": "​",
            "_view_module": "@jupyter-widgets/controls",
            "_model_module_version": "1.5.0",
            "value": " 1649664/? [00:00&lt;00:00, 5983090.02it/s]",
            "_view_count": null,
            "_view_module_version": "1.5.0",
            "description_tooltip": null,
            "_model_module": "@jupyter-widgets/controls",
            "layout": "IPY_MODEL_5617668cb58647d4a7a045cbea25ffb2"
          }
        },
        "c4e41daaddde494eab11e7726305172a": {
          "model_module": "@jupyter-widgets/controls",
          "model_name": "ProgressStyleModel",
          "state": {
            "_view_name": "StyleView",
            "_model_name": "ProgressStyleModel",
            "description_width": "initial",
            "_view_module": "@jupyter-widgets/base",
            "_model_module_version": "1.5.0",
            "_view_count": null,
            "_view_module_version": "1.2.0",
            "bar_color": null,
            "_model_module": "@jupyter-widgets/controls"
          }
        },
        "4341125f25f745a0bb3268c767a28fac": {
          "model_module": "@jupyter-widgets/base",
          "model_name": "LayoutModel",
          "state": {
            "_view_name": "LayoutView",
            "grid_template_rows": null,
            "right": null,
            "justify_content": null,
            "_view_module": "@jupyter-widgets/base",
            "overflow": null,
            "_model_module_version": "1.2.0",
            "_view_count": null,
            "flex_flow": null,
            "width": null,
            "min_width": null,
            "border": null,
            "align_items": null,
            "bottom": null,
            "_model_module": "@jupyter-widgets/base",
            "top": null,
            "grid_column": null,
            "overflow_y": null,
            "overflow_x": null,
            "grid_auto_flow": null,
            "grid_area": null,
            "grid_template_columns": null,
            "flex": null,
            "_model_name": "LayoutModel",
            "justify_items": null,
            "grid_row": null,
            "max_height": null,
            "align_content": null,
            "visibility": null,
            "align_self": null,
            "height": null,
            "min_height": null,
            "padding": null,
            "grid_auto_rows": null,
            "grid_gap": null,
            "max_width": null,
            "order": null,
            "_view_module_version": "1.2.0",
            "grid_template_areas": null,
            "object_position": null,
            "object_fit": null,
            "grid_auto_columns": null,
            "margin": null,
            "display": null,
            "left": null
          }
        },
        "b765a383f8da49c38b2e18b9076965c5": {
          "model_module": "@jupyter-widgets/controls",
          "model_name": "DescriptionStyleModel",
          "state": {
            "_view_name": "StyleView",
            "_model_name": "DescriptionStyleModel",
            "description_width": "",
            "_view_module": "@jupyter-widgets/base",
            "_model_module_version": "1.5.0",
            "_view_count": null,
            "_view_module_version": "1.2.0",
            "_model_module": "@jupyter-widgets/controls"
          }
        },
        "5617668cb58647d4a7a045cbea25ffb2": {
          "model_module": "@jupyter-widgets/base",
          "model_name": "LayoutModel",
          "state": {
            "_view_name": "LayoutView",
            "grid_template_rows": null,
            "right": null,
            "justify_content": null,
            "_view_module": "@jupyter-widgets/base",
            "overflow": null,
            "_model_module_version": "1.2.0",
            "_view_count": null,
            "flex_flow": null,
            "width": null,
            "min_width": null,
            "border": null,
            "align_items": null,
            "bottom": null,
            "_model_module": "@jupyter-widgets/base",
            "top": null,
            "grid_column": null,
            "overflow_y": null,
            "overflow_x": null,
            "grid_auto_flow": null,
            "grid_area": null,
            "grid_template_columns": null,
            "flex": null,
            "_model_name": "LayoutModel",
            "justify_items": null,
            "grid_row": null,
            "max_height": null,
            "align_content": null,
            "visibility": null,
            "align_self": null,
            "height": null,
            "min_height": null,
            "padding": null,
            "grid_auto_rows": null,
            "grid_gap": null,
            "max_width": null,
            "order": null,
            "_view_module_version": "1.2.0",
            "grid_template_areas": null,
            "object_position": null,
            "object_fit": null,
            "grid_auto_columns": null,
            "margin": null,
            "display": null,
            "left": null
          }
        },
        "ec269d0e8d7c49b1b5c5d07a2d41d173": {
          "model_module": "@jupyter-widgets/controls",
          "model_name": "HBoxModel",
          "state": {
            "_view_name": "HBoxView",
            "_dom_classes": [],
            "_model_name": "HBoxModel",
            "_view_module": "@jupyter-widgets/controls",
            "_model_module_version": "1.5.0",
            "_view_count": null,
            "_view_module_version": "1.5.0",
            "box_style": "",
            "layout": "IPY_MODEL_841b301756c94e01a46050874b26c8dd",
            "_model_module": "@jupyter-widgets/controls",
            "children": [
              "IPY_MODEL_6af38aecb9394709a57f59d81b728ffb",
              "IPY_MODEL_d43fa7025f4f4002a964cd4b489aa416"
            ]
          }
        },
        "841b301756c94e01a46050874b26c8dd": {
          "model_module": "@jupyter-widgets/base",
          "model_name": "LayoutModel",
          "state": {
            "_view_name": "LayoutView",
            "grid_template_rows": null,
            "right": null,
            "justify_content": null,
            "_view_module": "@jupyter-widgets/base",
            "overflow": null,
            "_model_module_version": "1.2.0",
            "_view_count": null,
            "flex_flow": null,
            "width": null,
            "min_width": null,
            "border": null,
            "align_items": null,
            "bottom": null,
            "_model_module": "@jupyter-widgets/base",
            "top": null,
            "grid_column": null,
            "overflow_y": null,
            "overflow_x": null,
            "grid_auto_flow": null,
            "grid_area": null,
            "grid_template_columns": null,
            "flex": null,
            "_model_name": "LayoutModel",
            "justify_items": null,
            "grid_row": null,
            "max_height": null,
            "align_content": null,
            "visibility": null,
            "align_self": null,
            "height": null,
            "min_height": null,
            "padding": null,
            "grid_auto_rows": null,
            "grid_gap": null,
            "max_width": null,
            "order": null,
            "_view_module_version": "1.2.0",
            "grid_template_areas": null,
            "object_position": null,
            "object_fit": null,
            "grid_auto_columns": null,
            "margin": null,
            "display": null,
            "left": null
          }
        },
        "6af38aecb9394709a57f59d81b728ffb": {
          "model_module": "@jupyter-widgets/controls",
          "model_name": "FloatProgressModel",
          "state": {
            "_view_name": "ProgressView",
            "style": "IPY_MODEL_a0f133901f7144feae17af84d4f1e662",
            "_dom_classes": [],
            "description": "",
            "_model_name": "FloatProgressModel",
            "bar_style": "success",
            "max": 4542,
            "_view_module": "@jupyter-widgets/controls",
            "_model_module_version": "1.5.0",
            "value": 4542,
            "_view_count": null,
            "_view_module_version": "1.5.0",
            "orientation": "horizontal",
            "min": 0,
            "description_tooltip": null,
            "_model_module": "@jupyter-widgets/controls",
            "layout": "IPY_MODEL_e74442fc26cb4ed991ed60db79b1d1f7"
          }
        },
        "d43fa7025f4f4002a964cd4b489aa416": {
          "model_module": "@jupyter-widgets/controls",
          "model_name": "HTMLModel",
          "state": {
            "_view_name": "HTMLView",
            "style": "IPY_MODEL_6169cbe746ee48d7a4e82d6dacac32af",
            "_dom_classes": [],
            "description": "",
            "_model_name": "HTMLModel",
            "placeholder": "​",
            "_view_module": "@jupyter-widgets/controls",
            "_model_module_version": "1.5.0",
            "value": " 5120/? [18:34&lt;00:00,  4.59it/s]",
            "_view_count": null,
            "_view_module_version": "1.5.0",
            "description_tooltip": null,
            "_model_module": "@jupyter-widgets/controls",
            "layout": "IPY_MODEL_277adcced0c84ca7a6a0abc7d24df8ca"
          }
        },
        "a0f133901f7144feae17af84d4f1e662": {
          "model_module": "@jupyter-widgets/controls",
          "model_name": "ProgressStyleModel",
          "state": {
            "_view_name": "StyleView",
            "_model_name": "ProgressStyleModel",
            "description_width": "initial",
            "_view_module": "@jupyter-widgets/base",
            "_model_module_version": "1.5.0",
            "_view_count": null,
            "_view_module_version": "1.2.0",
            "bar_color": null,
            "_model_module": "@jupyter-widgets/controls"
          }
        },
        "e74442fc26cb4ed991ed60db79b1d1f7": {
          "model_module": "@jupyter-widgets/base",
          "model_name": "LayoutModel",
          "state": {
            "_view_name": "LayoutView",
            "grid_template_rows": null,
            "right": null,
            "justify_content": null,
            "_view_module": "@jupyter-widgets/base",
            "overflow": null,
            "_model_module_version": "1.2.0",
            "_view_count": null,
            "flex_flow": null,
            "width": null,
            "min_width": null,
            "border": null,
            "align_items": null,
            "bottom": null,
            "_model_module": "@jupyter-widgets/base",
            "top": null,
            "grid_column": null,
            "overflow_y": null,
            "overflow_x": null,
            "grid_auto_flow": null,
            "grid_area": null,
            "grid_template_columns": null,
            "flex": null,
            "_model_name": "LayoutModel",
            "justify_items": null,
            "grid_row": null,
            "max_height": null,
            "align_content": null,
            "visibility": null,
            "align_self": null,
            "height": null,
            "min_height": null,
            "padding": null,
            "grid_auto_rows": null,
            "grid_gap": null,
            "max_width": null,
            "order": null,
            "_view_module_version": "1.2.0",
            "grid_template_areas": null,
            "object_position": null,
            "object_fit": null,
            "grid_auto_columns": null,
            "margin": null,
            "display": null,
            "left": null
          }
        },
        "6169cbe746ee48d7a4e82d6dacac32af": {
          "model_module": "@jupyter-widgets/controls",
          "model_name": "DescriptionStyleModel",
          "state": {
            "_view_name": "StyleView",
            "_model_name": "DescriptionStyleModel",
            "description_width": "",
            "_view_module": "@jupyter-widgets/base",
            "_model_module_version": "1.5.0",
            "_view_count": null,
            "_view_module_version": "1.2.0",
            "_model_module": "@jupyter-widgets/controls"
          }
        },
        "277adcced0c84ca7a6a0abc7d24df8ca": {
          "model_module": "@jupyter-widgets/base",
          "model_name": "LayoutModel",
          "state": {
            "_view_name": "LayoutView",
            "grid_template_rows": null,
            "right": null,
            "justify_content": null,
            "_view_module": "@jupyter-widgets/base",
            "overflow": null,
            "_model_module_version": "1.2.0",
            "_view_count": null,
            "flex_flow": null,
            "width": null,
            "min_width": null,
            "border": null,
            "align_items": null,
            "bottom": null,
            "_model_module": "@jupyter-widgets/base",
            "top": null,
            "grid_column": null,
            "overflow_y": null,
            "overflow_x": null,
            "grid_auto_flow": null,
            "grid_area": null,
            "grid_template_columns": null,
            "flex": null,
            "_model_name": "LayoutModel",
            "justify_items": null,
            "grid_row": null,
            "max_height": null,
            "align_content": null,
            "visibility": null,
            "align_self": null,
            "height": null,
            "min_height": null,
            "padding": null,
            "grid_auto_rows": null,
            "grid_gap": null,
            "max_width": null,
            "order": null,
            "_view_module_version": "1.2.0",
            "grid_template_areas": null,
            "object_position": null,
            "object_fit": null,
            "grid_auto_columns": null,
            "margin": null,
            "display": null,
            "left": null
          }
        }
      }
    }
  },
  "cells": [
    {
      "cell_type": "markdown",
      "metadata": {
        "id": "view-in-github",
        "colab_type": "text"
      },
      "source": [
        "<a href=\"https://colab.research.google.com/github/avichaljn97/tsai-eva6/blob/main/EVA-6_session3_MNIST_randomnumber_sum.ipynb\" target=\"_parent\"><img src=\"https://colab.research.google.com/assets/colab-badge.svg\" alt=\"Open In Colab\"/></a>"
      ]
    },
    {
      "cell_type": "code",
      "metadata": {
        "id": "eFHqwtCyG8BG"
      },
      "source": [
        "from __future__ import print_function\n",
        "import torch\n",
        "import torchvision # provide access to datasets, models, transforms, utils, etc\n",
        "import torchvision.transforms as transforms\n",
        "from torch.utils.data import Dataset\n",
        "import numpy as np\n",
        "import matplotlib.pyplot as plt\n",
        "import torch.nn as nn\n",
        "import torch.nn.functional as F\n",
        "import torch.optim as optim\n",
        "from tqdm import tqdm"
      ],
      "execution_count": 1,
      "outputs": []
    },
    {
      "cell_type": "code",
      "metadata": {
        "id": "ToqEbK_So8tT",
        "colab": {
          "base_uri": "https://localhost:8080/",
          "height": 845,
          "referenced_widgets": [
            "4bb91b390c514e8fb69fb0ec7b880ae0",
            "f765fcbd184f45fabccff20998e2ccce",
            "117b2e33002e428bab362cddc47286cc",
            "b22145081cb34ccf82e3c975ca5fbdac",
            "cbdf41cf740f4dce822dbe8ed28d8a0f",
            "6f2687b2e93a4062a87ed2aae4466a75",
            "a3e10f0df54d447b9f36a723a2efcdff",
            "15d49192cec84f609bc4696e6110b224",
            "d2659a56ef6a490081019bdb197ed357",
            "c991b5e4ba954ddca3fb4e05e4ff4a95",
            "ad2e9b1b37bc42da87be31812d08be6a",
            "3f941b9dda18428681a917a6d288d7fe",
            "30384b417b3b49e7a49deabc3181bb2c",
            "c91f4356385b4b05b7ad1cd5efd3cbbb",
            "3f083ad886b7401eb2cbe00d68b8a871",
            "0c8ff5575fc54912b3ef8065b1cd84e1",
            "b0e78fb21ad948d38082f88e3a4295a3",
            "904b34a109e3478e835c0f05e0bc4221",
            "c89bd873bdd34e1f950d12d97c9f0986",
            "bdeedcc9815d4b7791e2bb6f9589e8cc",
            "c4e41daaddde494eab11e7726305172a",
            "4341125f25f745a0bb3268c767a28fac",
            "b765a383f8da49c38b2e18b9076965c5",
            "5617668cb58647d4a7a045cbea25ffb2",
            "ec269d0e8d7c49b1b5c5d07a2d41d173",
            "841b301756c94e01a46050874b26c8dd",
            "6af38aecb9394709a57f59d81b728ffb",
            "d43fa7025f4f4002a964cd4b489aa416",
            "a0f133901f7144feae17af84d4f1e662",
            "e74442fc26cb4ed991ed60db79b1d1f7",
            "6169cbe746ee48d7a4e82d6dacac32af",
            "277adcced0c84ca7a6a0abc7d24df8ca"
          ]
        },
        "outputId": "15c27898-ab9c-4c7c-be8c-bf059a469178"
      },
      "source": [
        "train_set = torchvision.datasets.MNIST(#creating the training set, it will give all 60000 data set in a single var \n",
        "    root='./data'\n",
        "    ,train=True\n",
        "    ,download=True\n",
        "    ,transform=transforms.Compose([\n",
        "        transforms.ToTensor()#coverting the data in tensor form\n",
        "        ,transforms.Normalize((0.1307,), (0.3081,))\n",
        "    ])\n",
        ")\n",
        "\n",
        "test_set = torchvision.datasets.MNIST(#creating the training set, it will give all 60000 data set in a single var \n",
        "    root='./data'\n",
        "    ,train=False\n",
        "    ,download=True\n",
        "    ,transform=transforms.Compose([\n",
        "        transforms.ToTensor()#coverting the data in tensor form\n",
        "        ,transforms.Normalize((0.1307,), (0.3081,))\n",
        "    ])\n",
        ")"
      ],
      "execution_count": 2,
      "outputs": [
        {
          "output_type": "stream",
          "text": [
            "Downloading http://yann.lecun.com/exdb/mnist/train-images-idx3-ubyte.gz\n",
            "Failed to download (trying next):\n",
            "HTTP Error 503: Service Unavailable\n",
            "\n",
            "Downloading https://ossci-datasets.s3.amazonaws.com/mnist/train-images-idx3-ubyte.gz\n",
            "Downloading https://ossci-datasets.s3.amazonaws.com/mnist/train-images-idx3-ubyte.gz to ./data/MNIST/raw/train-images-idx3-ubyte.gz\n"
          ],
          "name": "stdout"
        },
        {
          "output_type": "display_data",
          "data": {
            "application/vnd.jupyter.widget-view+json": {
              "model_id": "4bb91b390c514e8fb69fb0ec7b880ae0",
              "version_minor": 0,
              "version_major": 2
            },
            "text/plain": [
              "HBox(children=(FloatProgress(value=0.0, max=9912422.0), HTML(value='')))"
            ]
          },
          "metadata": {
            "tags": []
          }
        },
        {
          "output_type": "stream",
          "text": [
            "\n",
            "Extracting ./data/MNIST/raw/train-images-idx3-ubyte.gz to ./data/MNIST/raw\n",
            "\n",
            "Downloading http://yann.lecun.com/exdb/mnist/train-labels-idx1-ubyte.gz\n",
            "Failed to download (trying next):\n",
            "HTTP Error 503: Service Unavailable\n",
            "\n",
            "Downloading https://ossci-datasets.s3.amazonaws.com/mnist/train-labels-idx1-ubyte.gz\n",
            "Downloading https://ossci-datasets.s3.amazonaws.com/mnist/train-labels-idx1-ubyte.gz to ./data/MNIST/raw/train-labels-idx1-ubyte.gz\n"
          ],
          "name": "stdout"
        },
        {
          "output_type": "display_data",
          "data": {
            "application/vnd.jupyter.widget-view+json": {
              "model_id": "d2659a56ef6a490081019bdb197ed357",
              "version_minor": 0,
              "version_major": 2
            },
            "text/plain": [
              "HBox(children=(FloatProgress(value=0.0, max=28881.0), HTML(value='')))"
            ]
          },
          "metadata": {
            "tags": []
          }
        },
        {
          "output_type": "stream",
          "text": [
            "\n",
            "Extracting ./data/MNIST/raw/train-labels-idx1-ubyte.gz to ./data/MNIST/raw\n",
            "\n",
            "Downloading http://yann.lecun.com/exdb/mnist/t10k-images-idx3-ubyte.gz\n",
            "Failed to download (trying next):\n",
            "HTTP Error 503: Service Unavailable\n",
            "\n",
            "Downloading https://ossci-datasets.s3.amazonaws.com/mnist/t10k-images-idx3-ubyte.gz\n",
            "Downloading https://ossci-datasets.s3.amazonaws.com/mnist/t10k-images-idx3-ubyte.gz to ./data/MNIST/raw/t10k-images-idx3-ubyte.gz\n"
          ],
          "name": "stdout"
        },
        {
          "output_type": "display_data",
          "data": {
            "application/vnd.jupyter.widget-view+json": {
              "model_id": "b0e78fb21ad948d38082f88e3a4295a3",
              "version_minor": 0,
              "version_major": 2
            },
            "text/plain": [
              "HBox(children=(FloatProgress(value=0.0, max=1648877.0), HTML(value='')))"
            ]
          },
          "metadata": {
            "tags": []
          }
        },
        {
          "output_type": "stream",
          "text": [
            "\n",
            "Extracting ./data/MNIST/raw/t10k-images-idx3-ubyte.gz to ./data/MNIST/raw\n",
            "\n",
            "Downloading http://yann.lecun.com/exdb/mnist/t10k-labels-idx1-ubyte.gz\n",
            "Failed to download (trying next):\n",
            "HTTP Error 503: Service Unavailable\n",
            "\n",
            "Downloading https://ossci-datasets.s3.amazonaws.com/mnist/t10k-labels-idx1-ubyte.gz\n",
            "Downloading https://ossci-datasets.s3.amazonaws.com/mnist/t10k-labels-idx1-ubyte.gz to ./data/MNIST/raw/t10k-labels-idx1-ubyte.gz\n"
          ],
          "name": "stdout"
        },
        {
          "output_type": "display_data",
          "data": {
            "application/vnd.jupyter.widget-view+json": {
              "model_id": "ec269d0e8d7c49b1b5c5d07a2d41d173",
              "version_minor": 0,
              "version_major": 2
            },
            "text/plain": [
              "HBox(children=(FloatProgress(value=0.0, max=4542.0), HTML(value='')))"
            ]
          },
          "metadata": {
            "tags": []
          }
        },
        {
          "output_type": "stream",
          "text": [
            "\n",
            "Extracting ./data/MNIST/raw/t10k-labels-idx1-ubyte.gz to ./data/MNIST/raw\n",
            "\n",
            "Processing...\n",
            "Done!\n"
          ],
          "name": "stdout"
        },
        {
          "output_type": "stream",
          "text": [
            "/usr/local/lib/python3.7/dist-packages/torchvision/datasets/mnist.py:502: UserWarning: The given NumPy array is not writeable, and PyTorch does not support non-writeable tensors. This means you can write to the underlying (supposedly non-writeable) NumPy array using the tensor. You may want to copy the array to protect its data or make it writeable before converting it to a tensor. This type of warning will be suppressed for the rest of this program. (Triggered internally at  /pytorch/torch/csrc/utils/tensor_numpy.cpp:143.)\n",
            "  return torch.from_numpy(parsed.astype(m[2], copy=False)).view(*s)\n"
          ],
          "name": "stderr"
        }
      ]
    },
    {
      "cell_type": "code",
      "metadata": {
        "id": "lxVEfRvapOBl"
      },
      "source": [
        "#train_loader = torch.utils.data.DataLoader(train_set#DataLoader helps in forming batches and shuffling\n",
        "#    ,batch_size=32\n",
        "#    ,shuffle=True\n",
        "#)"
      ],
      "execution_count": 3,
      "outputs": []
    },
    {
      "cell_type": "code",
      "metadata": {
        "id": "yvLkyTkuBCM9"
      },
      "source": [
        "data_size = len(train_set)"
      ],
      "execution_count": 4,
      "outputs": []
    },
    {
      "cell_type": "code",
      "metadata": {
        "id": "pZwU4qwAAar3"
      },
      "source": [
        "class Network(nn.Module):\n",
        "    def __init__(self):\n",
        "        super(Network,self).__init__()\n",
        "\n",
        "        self.conv1 = nn.Conv2d(in_channels=1, out_channels=32, kernel_size=3, padding=1)#28*28*32\n",
        "        self.pool1 = nn.MaxPool2d(2,2)#14*14*32\n",
        "\n",
        "        self.conv2 = nn.Conv2d(in_channels=32, out_channels=64, kernel_size=3, padding=1)#14*14*64\n",
        "        self.pool2 = nn.MaxPool2d(2,2)#7*7*128\n",
        "\n",
        "        self.conv3 = nn.Conv2d(in_channels=64, out_channels=128, kernel_size=3)#7*7*128\n",
        "\n",
        "        self.GAP = nn.AvgPool2d(kernel_size=5)#1*1*256\n",
        "\n",
        "        self.fc1 = nn.Linear(in_features=128 + 10, out_features=64)\n",
        "        self.fc2 = nn.Linear(in_features=64, out_features=32)\n",
        "        self.out1 = nn.Linear(in_features=32, out_features=10)\n",
        "        self.out2 = nn.Linear(in_features=32, out_features=19)\n",
        "\n",
        "    def forward(self, x,y): \n",
        "\n",
        "        x = self.pool1(F.relu(self.conv1(x)))\n",
        "        \n",
        "        x = self.pool2(F.relu(self.conv2(x)))\n",
        "\n",
        "        x = self.GAP(F.relu(self.conv3(x)))\n",
        "\n",
        "        #x = self.GAP(x)\n",
        "        x = x.reshape(-1,128)\n",
        "        \n",
        "        x = torch.cat((x,y),dim=1)\n",
        "        x = x.reshape(-1, 128 + 10)\n",
        "        \n",
        "        x = self.fc1(x)\n",
        "        x = self.fc2(x)\n",
        "        out1 = self.out1(x)\n",
        "        out2 = self.out2(x)\n",
        "        out1 = out1.reshape(-1,10)\n",
        "        out2 = out2.reshape(-1,19)\n",
        "\n",
        " \n",
        "        return F.log_softmax(out1, dim = 1),F.log_softmax(out2, dim = 1)"
      ],
      "execution_count": 11,
      "outputs": []
    },
    {
      "cell_type": "code",
      "metadata": {
        "id": "5iRFZFPeIqJR"
      },
      "source": [
        "def get_num_correct(preds, labels):\n",
        "  return preds.argmax(dim=1).eq(labels).sum().item()"
      ],
      "execution_count": 6,
      "outputs": []
    },
    {
      "cell_type": "code",
      "metadata": {
        "id": "m85k3wehdqRj"
      },
      "source": [
        "#batch=next(iter(train_loader))\n",
        "#images,labels=batch\n",
        "#network=Network()\n",
        "#pred=network(images)\n",
        "#pred.argmax(1)\n",
        "#loss = F.nll_loss(pred, labels)\n",
        "#loss.item()\n",
        "#pred,labels"
      ],
      "execution_count": 7,
      "outputs": []
    },
    {
      "cell_type": "code",
      "metadata": {
        "colab": {
          "base_uri": "https://localhost:8080/",
          "height": 666
        },
        "id": "xFTqlWz6gTHo",
        "outputId": "419c01c6-bb0c-4650-a71f-7e122d7d03ad"
      },
      "source": [
        "!pip install torchsummary \n",
        "\n",
        "from torchsummary import summary \n",
        "\n",
        "use_cuda = torch.cuda.is_available() \n",
        "# check if CUDA is available or not\n",
        "# CUDA is a parallel computing platform for general computing on GPUs (graphics processing units)\n",
        "# CUDA enables developers to speed up compute-intensive applications by using the power of GPUs for the parallelizable part of the computation.\n",
        " \n",
        "device = torch.device(\"cuda\" if use_cuda else \"cpu\") \n",
        "# use gpu if cuda is available\n",
        "# else use cpu\n",
        "network=Network()\n",
        "network = network.to(device)\n",
        "# pass the entire model to gpu if available or cpu if gpu is not available\n",
        " \n",
        "#summary(mnist_model)\n",
        "\n",
        "#print(network)\n",
        "summary(network, input_size=[(1,28,28),(10,)])"
      ],
      "execution_count": 12,
      "outputs": [
        {
          "output_type": "stream",
          "text": [
            "Requirement already satisfied: torchsummary in /usr/local/lib/python3.7/dist-packages (1.5.1)\n",
            "----------------------------------------------------------------\n",
            "        Layer (type)               Output Shape         Param #\n",
            "================================================================\n",
            "            Conv2d-1           [-1, 32, 28, 28]             320\n",
            "         MaxPool2d-2           [-1, 32, 14, 14]               0\n",
            "            Conv2d-3           [-1, 64, 14, 14]          18,496\n",
            "         MaxPool2d-4             [-1, 64, 7, 7]               0\n",
            "            Conv2d-5            [-1, 128, 5, 5]          73,856\n",
            "         AvgPool2d-6            [-1, 128, 1, 1]               0\n",
            "            Linear-7                   [-1, 64]           8,896\n",
            "            Linear-8                   [-1, 32]           2,080\n",
            "            Linear-9                   [-1, 10]             330\n",
            "           Linear-10                   [-1, 19]             627\n"
          ],
          "name": "stdout"
        },
        {
          "output_type": "stream",
          "text": [
            "/usr/local/lib/python3.7/dist-packages/numpy/core/fromnumeric.py:87: VisibleDeprecationWarning: Creating an ndarray from ragged nested sequences (which is a list-or-tuple of lists-or-tuples-or ndarrays with different lengths or shapes) is deprecated. If you meant to do this, you must specify 'dtype=object' when creating the ndarray\n",
            "  return ufunc.reduce(obj, axis, dtype, out, **passkwargs)\n"
          ],
          "name": "stderr"
        },
        {
          "output_type": "error",
          "ename": "TypeError",
          "evalue": "ignored",
          "traceback": [
            "\u001b[0;31m---------------------------------------------------------------------------\u001b[0m",
            "\u001b[0;31mTypeError\u001b[0m                                 Traceback (most recent call last)",
            "\u001b[0;32m<ipython-input-12-c3c5592baf18>\u001b[0m in \u001b[0;36m<module>\u001b[0;34m()\u001b[0m\n\u001b[1;32m     18\u001b[0m \u001b[0;34m\u001b[0m\u001b[0m\n\u001b[1;32m     19\u001b[0m \u001b[0;31m#print(network)\u001b[0m\u001b[0;34m\u001b[0m\u001b[0;34m\u001b[0m\u001b[0;34m\u001b[0m\u001b[0m\n\u001b[0;32m---> 20\u001b[0;31m \u001b[0msummary\u001b[0m\u001b[0;34m(\u001b[0m\u001b[0mnetwork\u001b[0m\u001b[0;34m,\u001b[0m \u001b[0minput_size\u001b[0m\u001b[0;34m=\u001b[0m\u001b[0;34m[\u001b[0m\u001b[0;34m(\u001b[0m\u001b[0;36m1\u001b[0m\u001b[0;34m,\u001b[0m\u001b[0;36m28\u001b[0m\u001b[0;34m,\u001b[0m\u001b[0;36m28\u001b[0m\u001b[0;34m)\u001b[0m\u001b[0;34m,\u001b[0m\u001b[0;34m(\u001b[0m\u001b[0;36m10\u001b[0m\u001b[0;34m,\u001b[0m\u001b[0;34m)\u001b[0m\u001b[0;34m]\u001b[0m\u001b[0;34m)\u001b[0m\u001b[0;34m\u001b[0m\u001b[0;34m\u001b[0m\u001b[0m\n\u001b[0m",
            "\u001b[0;32m/usr/local/lib/python3.7/dist-packages/torchsummary/torchsummary.py\u001b[0m in \u001b[0;36msummary\u001b[0;34m(model, input_size, batch_size, device)\u001b[0m\n\u001b[1;32m     98\u001b[0m \u001b[0;34m\u001b[0m\u001b[0m\n\u001b[1;32m     99\u001b[0m     \u001b[0;31m# assume 4 bytes/number (float on cuda).\u001b[0m\u001b[0;34m\u001b[0m\u001b[0;34m\u001b[0m\u001b[0;34m\u001b[0m\u001b[0m\n\u001b[0;32m--> 100\u001b[0;31m     \u001b[0mtotal_input_size\u001b[0m \u001b[0;34m=\u001b[0m \u001b[0mabs\u001b[0m\u001b[0;34m(\u001b[0m\u001b[0mnp\u001b[0m\u001b[0;34m.\u001b[0m\u001b[0mprod\u001b[0m\u001b[0;34m(\u001b[0m\u001b[0minput_size\u001b[0m\u001b[0;34m)\u001b[0m \u001b[0;34m*\u001b[0m \u001b[0mbatch_size\u001b[0m \u001b[0;34m*\u001b[0m \u001b[0;36m4.\u001b[0m \u001b[0;34m/\u001b[0m \u001b[0;34m(\u001b[0m\u001b[0;36m1024\u001b[0m \u001b[0;34m**\u001b[0m \u001b[0;36m2.\u001b[0m\u001b[0;34m)\u001b[0m\u001b[0;34m)\u001b[0m\u001b[0;34m\u001b[0m\u001b[0;34m\u001b[0m\u001b[0m\n\u001b[0m\u001b[1;32m    101\u001b[0m     \u001b[0mtotal_output_size\u001b[0m \u001b[0;34m=\u001b[0m \u001b[0mabs\u001b[0m\u001b[0;34m(\u001b[0m\u001b[0;36m2.\u001b[0m \u001b[0;34m*\u001b[0m \u001b[0mtotal_output\u001b[0m \u001b[0;34m*\u001b[0m \u001b[0;36m4.\u001b[0m \u001b[0;34m/\u001b[0m \u001b[0;34m(\u001b[0m\u001b[0;36m1024\u001b[0m \u001b[0;34m**\u001b[0m \u001b[0;36m2.\u001b[0m\u001b[0;34m)\u001b[0m\u001b[0;34m)\u001b[0m  \u001b[0;31m# x2 for gradients\u001b[0m\u001b[0;34m\u001b[0m\u001b[0;34m\u001b[0m\u001b[0m\n\u001b[1;32m    102\u001b[0m     \u001b[0mtotal_params_size\u001b[0m \u001b[0;34m=\u001b[0m \u001b[0mabs\u001b[0m\u001b[0;34m(\u001b[0m\u001b[0mtotal_params\u001b[0m\u001b[0;34m.\u001b[0m\u001b[0mnumpy\u001b[0m\u001b[0;34m(\u001b[0m\u001b[0;34m)\u001b[0m \u001b[0;34m*\u001b[0m \u001b[0;36m4.\u001b[0m \u001b[0;34m/\u001b[0m \u001b[0;34m(\u001b[0m\u001b[0;36m1024\u001b[0m \u001b[0;34m**\u001b[0m \u001b[0;36m2.\u001b[0m\u001b[0;34m)\u001b[0m\u001b[0;34m)\u001b[0m\u001b[0;34m\u001b[0m\u001b[0;34m\u001b[0m\u001b[0m\n",
            "\u001b[0;32m<__array_function__ internals>\u001b[0m in \u001b[0;36mprod\u001b[0;34m(*args, **kwargs)\u001b[0m\n",
            "\u001b[0;32m/usr/local/lib/python3.7/dist-packages/numpy/core/fromnumeric.py\u001b[0m in \u001b[0;36mprod\u001b[0;34m(a, axis, dtype, out, keepdims, initial, where)\u001b[0m\n\u001b[1;32m   2998\u001b[0m     \"\"\"\n\u001b[1;32m   2999\u001b[0m     return _wrapreduction(a, np.multiply, 'prod', axis, dtype, out,\n\u001b[0;32m-> 3000\u001b[0;31m                           keepdims=keepdims, initial=initial, where=where)\n\u001b[0m\u001b[1;32m   3001\u001b[0m \u001b[0;34m\u001b[0m\u001b[0m\n\u001b[1;32m   3002\u001b[0m \u001b[0;34m\u001b[0m\u001b[0m\n",
            "\u001b[0;32m/usr/local/lib/python3.7/dist-packages/numpy/core/fromnumeric.py\u001b[0m in \u001b[0;36m_wrapreduction\u001b[0;34m(obj, ufunc, method, axis, dtype, out, **kwargs)\u001b[0m\n\u001b[1;32m     85\u001b[0m                 \u001b[0;32mreturn\u001b[0m \u001b[0mreduction\u001b[0m\u001b[0;34m(\u001b[0m\u001b[0maxis\u001b[0m\u001b[0;34m=\u001b[0m\u001b[0maxis\u001b[0m\u001b[0;34m,\u001b[0m \u001b[0mout\u001b[0m\u001b[0;34m=\u001b[0m\u001b[0mout\u001b[0m\u001b[0;34m,\u001b[0m \u001b[0;34m**\u001b[0m\u001b[0mpasskwargs\u001b[0m\u001b[0;34m)\u001b[0m\u001b[0;34m\u001b[0m\u001b[0;34m\u001b[0m\u001b[0m\n\u001b[1;32m     86\u001b[0m \u001b[0;34m\u001b[0m\u001b[0m\n\u001b[0;32m---> 87\u001b[0;31m     \u001b[0;32mreturn\u001b[0m \u001b[0mufunc\u001b[0m\u001b[0;34m.\u001b[0m\u001b[0mreduce\u001b[0m\u001b[0;34m(\u001b[0m\u001b[0mobj\u001b[0m\u001b[0;34m,\u001b[0m \u001b[0maxis\u001b[0m\u001b[0;34m,\u001b[0m \u001b[0mdtype\u001b[0m\u001b[0;34m,\u001b[0m \u001b[0mout\u001b[0m\u001b[0;34m,\u001b[0m \u001b[0;34m**\u001b[0m\u001b[0mpasskwargs\u001b[0m\u001b[0;34m)\u001b[0m\u001b[0;34m\u001b[0m\u001b[0;34m\u001b[0m\u001b[0m\n\u001b[0m\u001b[1;32m     88\u001b[0m \u001b[0;34m\u001b[0m\u001b[0m\n\u001b[1;32m     89\u001b[0m \u001b[0;34m\u001b[0m\u001b[0m\n",
            "\u001b[0;31mTypeError\u001b[0m: can't multiply sequence by non-int of type 'tuple'"
          ]
        }
      ]
    },
    {
      "cell_type": "code",
      "metadata": {
        "id": "3FGC7d7fHy4I"
      },
      "source": [
        "training_MNIST_loss, training_MNIST_accuracy, testing_MNIST_accuracy=[], [], []\n",
        "training_sum_loss, training_sum_accuracy, testing_sum_accuracy=[], [], []\n",
        "\n",
        "\n",
        "def train(network, device, train_loader, optimizer, epoch):\n",
        "  total_loss1,total_loss2 = 0,0\n",
        "  total_correct = 0\n",
        "  total_sum_correct = 0\n",
        "  loss = 0\n",
        "\n",
        "  for batch in train_loader:\n",
        "    images, labels = batch\n",
        "    images = images.to(device)\n",
        "    labels = labels.to(device)\n",
        "    randDigits = torch.randint(0, 10, (100,))\n",
        "    digOne = F.one_hot(randDigits, num_classes=10)\n",
        "    randDigits = randDigits.to(device)\n",
        "    digOne = digOne.to(device)\n",
        "    \n",
        "    preds, sum_preds = network(images, digOne) # Pass Batch\n",
        "    loss1 = F.nll_loss(preds, labels) # Calculate Loss\n",
        "    loss2 = F.nll_loss(sum_preds, labels+randDigits)\n",
        "    \n",
        "    loss =  ( loss1 + 2*loss2 ) \n",
        "\n",
        "    total_loss1 += loss1.item()\n",
        "    total_loss2 += loss2.item()\n",
        "    total_correct += get_num_correct(preds, labels)\n",
        "    total_sum_correct += get_num_correct(sum_preds, labels + randDigits)\n",
        "\n",
        "    optimizer.zero_grad()\n",
        "    loss.backward() # Calculate Gradients\n",
        "    optimizer.step() # Update Weights\n",
        "  \n",
        "  training_MNIST_loss.append(loss1.item())\n",
        "  training_MNIST_accuracy.append(100*total_correct/data_size)\n",
        "  training_sum_loss.append(loss2.item())\n",
        "  training_sum_accuracy.append(100*total_sum_correct/data_size)\n",
        "\n",
        "  print(\"Training: epoch %d total_correct:%.2f  total_sum_correct: %.2f\" %(epoch ,100*total_correct/data_size ,100*total_sum_correct/data_size ))\n",
        "\n",
        "def test (network, device, test_loader):\n",
        "  network.eval()\n",
        "  total_correct = 0\n",
        "  total_sum_correct = 0\n",
        "  processed = 0\n",
        "\n",
        "  with torch.no_grad():\n",
        "    for batch in test_loader:\n",
        "      images, labels = batch\n",
        "      images = images.to(device)\n",
        "      labels = labels.to(device)\n",
        "      randDigits = torch.randint(0, 10, (100,))\n",
        "      digOne = F.one_hot(randDigits, num_classes=10)\n",
        "      randDigits = randDigits.to(device)\n",
        "      digOne = digOne.to(device)\n",
        "    \n",
        "      preds, sum_preds = network(images, digOne)\n",
        "      total_correct += get_num_correct(preds, labels)\n",
        "      total_sum_correct += get_num_correct(sum_preds, labels + randDigits)\n",
        "      processed += len(labels)\n",
        "\n",
        "    testing_MNIST_accuracy.append(100*total_correct/processed)\n",
        "    testing_sum_accuracy.append(100*total_sum_correct/processed)\n",
        "    print(\"Testing: epoch %d total_correct:%.2f  total_sum_correct: %.2f\" %(epoch ,100*total_correct/processed ,100*total_sum_correct/processed ))\n"
      ],
      "execution_count": 13,
      "outputs": []
    },
    {
      "cell_type": "code",
      "metadata": {
        "colab": {
          "base_uri": "https://localhost:8080/"
        },
        "id": "T8lYjrRloPcW",
        "outputId": "82bd47c3-3abe-4905-b434-2354c91bceae"
      },
      "source": [
        "torch.set_grad_enabled(True)\n",
        "train_loader = torch.utils.data.DataLoader(train_set, batch_size=100,shuffle= True)\n",
        "test_loader = torch.utils.data.DataLoader(test_set, batch_size=100)\n",
        "optimizer = optim.SGD(network.parameters(), lr=0.01, momentum=0.9)\n",
        "\n",
        "for epoch in range(0, 50):\n",
        "    train(network, device, train_loader, optimizer, epoch)\n",
        "    test(network, device, test_loader)"
      ],
      "execution_count": 14,
      "outputs": [
        {
          "output_type": "stream",
          "text": [
            "Training: epoch 0 total_correct:52.02  total_sum_correct: 19.62\n",
            "Testing: epoch 0 total_correct:94.34  total_sum_correct: 38.38\n",
            "Training: epoch 1 total_correct:95.34  total_sum_correct: 43.29\n",
            "Testing: epoch 1 total_correct:97.03  total_sum_correct: 55.92\n",
            "Training: epoch 2 total_correct:97.39  total_sum_correct: 54.21\n",
            "Testing: epoch 2 total_correct:98.31  total_sum_correct: 51.41\n",
            "Training: epoch 3 total_correct:98.12  total_sum_correct: 59.44\n",
            "Testing: epoch 3 total_correct:98.34  total_sum_correct: 61.17\n",
            "Training: epoch 4 total_correct:98.56  total_sum_correct: 64.23\n",
            "Testing: epoch 4 total_correct:98.71  total_sum_correct: 65.44\n",
            "Training: epoch 5 total_correct:98.64  total_sum_correct: 67.34\n",
            "Testing: epoch 5 total_correct:98.76  total_sum_correct: 67.64\n",
            "Training: epoch 6 total_correct:98.90  total_sum_correct: 68.78\n",
            "Testing: epoch 6 total_correct:98.87  total_sum_correct: 69.43\n",
            "Training: epoch 7 total_correct:98.96  total_sum_correct: 70.75\n",
            "Testing: epoch 7 total_correct:99.04  total_sum_correct: 73.34\n",
            "Training: epoch 8 total_correct:99.10  total_sum_correct: 72.03\n",
            "Testing: epoch 8 total_correct:98.97  total_sum_correct: 72.33\n",
            "Training: epoch 9 total_correct:99.17  total_sum_correct: 74.17\n",
            "Testing: epoch 9 total_correct:99.02  total_sum_correct: 72.10\n",
            "Training: epoch 10 total_correct:99.21  total_sum_correct: 75.29\n",
            "Testing: epoch 10 total_correct:98.97  total_sum_correct: 78.10\n",
            "Training: epoch 11 total_correct:99.31  total_sum_correct: 76.65\n",
            "Testing: epoch 11 total_correct:99.10  total_sum_correct: 72.76\n",
            "Training: epoch 12 total_correct:99.39  total_sum_correct: 76.92\n",
            "Testing: epoch 12 total_correct:99.09  total_sum_correct: 78.88\n",
            "Training: epoch 13 total_correct:99.44  total_sum_correct: 78.43\n",
            "Testing: epoch 13 total_correct:99.10  total_sum_correct: 78.39\n",
            "Training: epoch 14 total_correct:99.42  total_sum_correct: 79.77\n",
            "Testing: epoch 14 total_correct:99.13  total_sum_correct: 83.07\n",
            "Training: epoch 15 total_correct:99.44  total_sum_correct: 80.53\n",
            "Testing: epoch 15 total_correct:99.24  total_sum_correct: 80.84\n",
            "Training: epoch 16 total_correct:99.49  total_sum_correct: 81.70\n",
            "Testing: epoch 16 total_correct:98.96  total_sum_correct: 76.95\n",
            "Training: epoch 17 total_correct:99.53  total_sum_correct: 81.40\n",
            "Testing: epoch 17 total_correct:99.04  total_sum_correct: 79.13\n",
            "Training: epoch 18 total_correct:99.56  total_sum_correct: 82.17\n",
            "Testing: epoch 18 total_correct:99.15  total_sum_correct: 77.83\n",
            "Training: epoch 19 total_correct:99.59  total_sum_correct: 82.33\n",
            "Testing: epoch 19 total_correct:99.06  total_sum_correct: 78.47\n",
            "Training: epoch 20 total_correct:99.61  total_sum_correct: 83.35\n",
            "Testing: epoch 20 total_correct:99.10  total_sum_correct: 82.85\n",
            "Training: epoch 21 total_correct:99.59  total_sum_correct: 83.98\n",
            "Testing: epoch 21 total_correct:98.83  total_sum_correct: 80.41\n",
            "Training: epoch 22 total_correct:99.67  total_sum_correct: 83.78\n",
            "Testing: epoch 22 total_correct:99.08  total_sum_correct: 80.04\n",
            "Training: epoch 23 total_correct:99.69  total_sum_correct: 84.75\n",
            "Testing: epoch 23 total_correct:99.04  total_sum_correct: 83.95\n",
            "Training: epoch 24 total_correct:99.66  total_sum_correct: 84.56\n",
            "Testing: epoch 24 total_correct:99.14  total_sum_correct: 83.21\n",
            "Training: epoch 25 total_correct:99.67  total_sum_correct: 85.03\n",
            "Testing: epoch 25 total_correct:98.92  total_sum_correct: 85.35\n",
            "Training: epoch 26 total_correct:99.70  total_sum_correct: 85.81\n",
            "Testing: epoch 26 total_correct:98.99  total_sum_correct: 83.50\n",
            "Training: epoch 27 total_correct:99.71  total_sum_correct: 86.28\n",
            "Testing: epoch 27 total_correct:98.90  total_sum_correct: 83.98\n",
            "Training: epoch 28 total_correct:99.76  total_sum_correct: 87.21\n",
            "Testing: epoch 28 total_correct:98.90  total_sum_correct: 86.24\n",
            "Training: epoch 29 total_correct:99.73  total_sum_correct: 87.32\n",
            "Testing: epoch 29 total_correct:98.96  total_sum_correct: 83.94\n",
            "Training: epoch 30 total_correct:99.77  total_sum_correct: 86.81\n",
            "Testing: epoch 30 total_correct:98.97  total_sum_correct: 82.67\n",
            "Training: epoch 31 total_correct:99.73  total_sum_correct: 87.48\n",
            "Testing: epoch 31 total_correct:99.15  total_sum_correct: 84.32\n",
            "Training: epoch 32 total_correct:99.80  total_sum_correct: 88.81\n",
            "Testing: epoch 32 total_correct:98.93  total_sum_correct: 86.39\n",
            "Training: epoch 33 total_correct:99.76  total_sum_correct: 87.37\n",
            "Testing: epoch 33 total_correct:99.05  total_sum_correct: 86.29\n",
            "Training: epoch 34 total_correct:99.81  total_sum_correct: 88.15\n",
            "Testing: epoch 34 total_correct:98.89  total_sum_correct: 80.97\n",
            "Training: epoch 35 total_correct:99.79  total_sum_correct: 88.68\n",
            "Testing: epoch 35 total_correct:99.03  total_sum_correct: 86.38\n",
            "Training: epoch 36 total_correct:99.78  total_sum_correct: 87.96\n",
            "Testing: epoch 36 total_correct:98.95  total_sum_correct: 88.10\n",
            "Training: epoch 37 total_correct:99.80  total_sum_correct: 89.17\n",
            "Testing: epoch 37 total_correct:99.04  total_sum_correct: 86.63\n",
            "Training: epoch 38 total_correct:99.79  total_sum_correct: 89.23\n",
            "Testing: epoch 38 total_correct:99.06  total_sum_correct: 85.74\n",
            "Training: epoch 39 total_correct:99.81  total_sum_correct: 89.10\n",
            "Testing: epoch 39 total_correct:98.82  total_sum_correct: 87.07\n",
            "Training: epoch 40 total_correct:99.81  total_sum_correct: 89.81\n",
            "Testing: epoch 40 total_correct:98.94  total_sum_correct: 87.46\n",
            "Training: epoch 41 total_correct:99.82  total_sum_correct: 89.94\n",
            "Testing: epoch 41 total_correct:98.96  total_sum_correct: 86.13\n",
            "Training: epoch 42 total_correct:99.83  total_sum_correct: 90.22\n",
            "Testing: epoch 42 total_correct:98.76  total_sum_correct: 82.62\n",
            "Training: epoch 43 total_correct:99.83  total_sum_correct: 90.23\n",
            "Testing: epoch 43 total_correct:99.06  total_sum_correct: 85.25\n",
            "Training: epoch 44 total_correct:99.84  total_sum_correct: 90.27\n",
            "Testing: epoch 44 total_correct:98.97  total_sum_correct: 87.88\n",
            "Training: epoch 45 total_correct:99.84  total_sum_correct: 90.53\n",
            "Testing: epoch 45 total_correct:98.92  total_sum_correct: 85.88\n",
            "Training: epoch 46 total_correct:99.85  total_sum_correct: 91.01\n",
            "Testing: epoch 46 total_correct:98.99  total_sum_correct: 86.40\n",
            "Training: epoch 47 total_correct:99.85  total_sum_correct: 91.61\n",
            "Testing: epoch 47 total_correct:98.90  total_sum_correct: 88.04\n",
            "Training: epoch 48 total_correct:99.85  total_sum_correct: 91.45\n",
            "Testing: epoch 48 total_correct:98.86  total_sum_correct: 86.08\n",
            "Training: epoch 49 total_correct:99.86  total_sum_correct: 90.84\n",
            "Testing: epoch 49 total_correct:98.78  total_sum_correct: 83.73\n"
          ],
          "name": "stdout"
        }
      ]
    },
    {
      "cell_type": "code",
      "metadata": {
        "colab": {
          "base_uri": "https://localhost:8080/",
          "height": 624
        },
        "id": "UH1q7bk6yxXC",
        "outputId": "9279ca73-abe0-44d4-e0e8-adbcf79101d1"
      },
      "source": [
        "fig, axs = plt.subplots(3,2,figsize=(15,10))\n",
        "axs[0, 0].plot(training_MNIST_loss)\n",
        "axs[0, 0].set_title(\"Training MNIST Loss\")\n",
        "axs[1, 0].plot(training_MNIST_accuracy)\n",
        "axs[1, 0].set_title(\"Training MNIST Accuracy\")\n",
        "axs[0, 1].plot(training_sum_loss)\n",
        "axs[0, 1].set_title(\"Training sum Loss\")\n",
        "axs[1, 1].plot(training_sum_accuracy)\n",
        "axs[1, 1].set_title(\"Training sum Accuracy\")\n",
        "axs[2, 0].plot(testing_MNIST_accuracy)\n",
        "axs[2, 0].set_title(\"Test MNIST Accuracy\")\n",
        "axs[2, 1].plot(testing_sum_accuracy)\n",
        "axs[2, 1].set_title(\"Test Sum Accuracy\")"
      ],
      "execution_count": 15,
      "outputs": [
        {
          "output_type": "execute_result",
          "data": {
            "text/plain": [
              "Text(0.5, 1.0, 'Test Sum Accuracy')"
            ]
          },
          "metadata": {
            "tags": []
          },
          "execution_count": 15
        },
        {
          "output_type": "display_data",
          "data": {
            "image/png": "[encoded data removed]",
            "text/plain": [
              "<Figure size 1080x720 with 6 Axes>"
            ]
          },
          "metadata": {
            "tags": [],
            "needs_background": "light"
          }
        }
      ]
    }
  ]
}