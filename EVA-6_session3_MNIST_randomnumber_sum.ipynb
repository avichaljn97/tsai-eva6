{
  "nbformat": 4,
  "nbformat_minor": 0,
  "metadata": {
    "accelerator": "GPU",
    "colab": {
      "name": "Untitled0.ipynb",
      "provenance": [],
      "collapsed_sections": [],
      "authorship_tag": "ABX9TyMLAc+Jt5hnogQ+TRM0ijDK",
      "include_colab_link": true
    },
    "kernelspec": {
      "display_name": "Python 3",
      "name": "python3"
    },
    "language_info": {
      "name": "python"
    },
    "widgets": {
      "application/vnd.jupyter.widget-state+json": {
        "3e0f960a388547a1b0c47279bfa534e4": {
          "model_module": "@jupyter-widgets/controls",
          "model_name": "HBoxModel",
          "state": {
            "_view_name": "HBoxView",
            "_dom_classes": [],
            "_model_name": "HBoxModel",
            "_view_module": "@jupyter-widgets/controls",
            "_model_module_version": "1.5.0",
            "_view_count": null,
            "_view_module_version": "1.5.0",
            "box_style": "",
            "layout": "IPY_MODEL_8e871b0f2ef54141aaf44ad261b7addd",
            "_model_module": "@jupyter-widgets/controls",
            "children": [
              "IPY_MODEL_f89b4291a78d4cb4a184671c2c8626b8",
              "IPY_MODEL_90996ca5eb414f39bf25d38960563207"
            ]
          }
        },
        "8e871b0f2ef54141aaf44ad261b7addd": {
          "model_module": "@jupyter-widgets/base",
          "model_name": "LayoutModel",
          "state": {
            "_view_name": "LayoutView",
            "grid_template_rows": null,
            "right": null,
            "justify_content": null,
            "_view_module": "@jupyter-widgets/base",
            "overflow": null,
            "_model_module_version": "1.2.0",
            "_view_count": null,
            "flex_flow": null,
            "width": null,
            "min_width": null,
            "border": null,
            "align_items": null,
            "bottom": null,
            "_model_module": "@jupyter-widgets/base",
            "top": null,
            "grid_column": null,
            "overflow_y": null,
            "overflow_x": null,
            "grid_auto_flow": null,
            "grid_area": null,
            "grid_template_columns": null,
            "flex": null,
            "_model_name": "LayoutModel",
            "justify_items": null,
            "grid_row": null,
            "max_height": null,
            "align_content": null,
            "visibility": null,
            "align_self": null,
            "height": null,
            "min_height": null,
            "padding": null,
            "grid_auto_rows": null,
            "grid_gap": null,
            "max_width": null,
            "order": null,
            "_view_module_version": "1.2.0",
            "grid_template_areas": null,
            "object_position": null,
            "object_fit": null,
            "grid_auto_columns": null,
            "margin": null,
            "display": null,
            "left": null
          }
        },
        "f89b4291a78d4cb4a184671c2c8626b8": {
          "model_module": "@jupyter-widgets/controls",
          "model_name": "FloatProgressModel",
          "state": {
            "_view_name": "ProgressView",
            "style": "IPY_MODEL_2cbfc39fd97549f2951d74aaa190c39c",
            "_dom_classes": [],
            "description": "",
            "_model_name": "FloatProgressModel",
            "bar_style": "success",
            "max": 9912422,
            "_view_module": "@jupyter-widgets/controls",
            "_model_module_version": "1.5.0",
            "value": 9912422,
            "_view_count": null,
            "_view_module_version": "1.5.0",
            "orientation": "horizontal",
            "min": 0,
            "description_tooltip": null,
            "_model_module": "@jupyter-widgets/controls",
            "layout": "IPY_MODEL_be94c77c53c643ee9fb1044bb3311598"
          }
        },
        "90996ca5eb414f39bf25d38960563207": {
          "model_module": "@jupyter-widgets/controls",
          "model_name": "HTMLModel",
          "state": {
            "_view_name": "HTMLView",
            "style": "IPY_MODEL_4ab73f10ca5443648cd5f1145fe5ed4d",
            "_dom_classes": [],
            "description": "",
            "_model_name": "HTMLModel",
            "placeholder": "​",
            "_view_module": "@jupyter-widgets/controls",
            "_model_module_version": "1.5.0",
            "value": " 9913344/? [22:01&lt;00:00, 7499.25it/s]",
            "_view_count": null,
            "_view_module_version": "1.5.0",
            "description_tooltip": null,
            "_model_module": "@jupyter-widgets/controls",
            "layout": "IPY_MODEL_6c80290fbf8844bca08d3b3792ca5519"
          }
        },
        "2cbfc39fd97549f2951d74aaa190c39c": {
          "model_module": "@jupyter-widgets/controls",
          "model_name": "ProgressStyleModel",
          "state": {
            "_view_name": "StyleView",
            "_model_name": "ProgressStyleModel",
            "description_width": "initial",
            "_view_module": "@jupyter-widgets/base",
            "_model_module_version": "1.5.0",
            "_view_count": null,
            "_view_module_version": "1.2.0",
            "bar_color": null,
            "_model_module": "@jupyter-widgets/controls"
          }
        },
        "be94c77c53c643ee9fb1044bb3311598": {
          "model_module": "@jupyter-widgets/base",
          "model_name": "LayoutModel",
          "state": {
            "_view_name": "LayoutView",
            "grid_template_rows": null,
            "right": null,
            "justify_content": null,
            "_view_module": "@jupyter-widgets/base",
            "overflow": null,
            "_model_module_version": "1.2.0",
            "_view_count": null,
            "flex_flow": null,
            "width": null,
            "min_width": null,
            "border": null,
            "align_items": null,
            "bottom": null,
            "_model_module": "@jupyter-widgets/base",
            "top": null,
            "grid_column": null,
            "overflow_y": null,
            "overflow_x": null,
            "grid_auto_flow": null,
            "grid_area": null,
            "grid_template_columns": null,
            "flex": null,
            "_model_name": "LayoutModel",
            "justify_items": null,
            "grid_row": null,
            "max_height": null,
            "align_content": null,
            "visibility": null,
            "align_self": null,
            "height": null,
            "min_height": null,
            "padding": null,
            "grid_auto_rows": null,
            "grid_gap": null,
            "max_width": null,
            "order": null,
            "_view_module_version": "1.2.0",
            "grid_template_areas": null,
            "object_position": null,
            "object_fit": null,
            "grid_auto_columns": null,
            "margin": null,
            "display": null,
            "left": null
          }
        },
        "4ab73f10ca5443648cd5f1145fe5ed4d": {
          "model_module": "@jupyter-widgets/controls",
          "model_name": "DescriptionStyleModel",
          "state": {
            "_view_name": "StyleView",
            "_model_name": "DescriptionStyleModel",
            "description_width": "",
            "_view_module": "@jupyter-widgets/base",
            "_model_module_version": "1.5.0",
            "_view_count": null,
            "_view_module_version": "1.2.0",
            "_model_module": "@jupyter-widgets/controls"
          }
        },
        "6c80290fbf8844bca08d3b3792ca5519": {
          "model_module": "@jupyter-widgets/base",
          "model_name": "LayoutModel",
          "state": {
            "_view_name": "LayoutView",
            "grid_template_rows": null,
            "right": null,
            "justify_content": null,
            "_view_module": "@jupyter-widgets/base",
            "overflow": null,
            "_model_module_version": "1.2.0",
            "_view_count": null,
            "flex_flow": null,
            "width": null,
            "min_width": null,
            "border": null,
            "align_items": null,
            "bottom": null,
            "_model_module": "@jupyter-widgets/base",
            "top": null,
            "grid_column": null,
            "overflow_y": null,
            "overflow_x": null,
            "grid_auto_flow": null,
            "grid_area": null,
            "grid_template_columns": null,
            "flex": null,
            "_model_name": "LayoutModel",
            "justify_items": null,
            "grid_row": null,
            "max_height": null,
            "align_content": null,
            "visibility": null,
            "align_self": null,
            "height": null,
            "min_height": null,
            "padding": null,
            "grid_auto_rows": null,
            "grid_gap": null,
            "max_width": null,
            "order": null,
            "_view_module_version": "1.2.0",
            "grid_template_areas": null,
            "object_position": null,
            "object_fit": null,
            "grid_auto_columns": null,
            "margin": null,
            "display": null,
            "left": null
          }
        },
        "92475c883804468fa7b3fadc34486661": {
          "model_module": "@jupyter-widgets/controls",
          "model_name": "HBoxModel",
          "state": {
            "_view_name": "HBoxView",
            "_dom_classes": [],
            "_model_name": "HBoxModel",
            "_view_module": "@jupyter-widgets/controls",
            "_model_module_version": "1.5.0",
            "_view_count": null,
            "_view_module_version": "1.5.0",
            "box_style": "",
            "layout": "IPY_MODEL_2fd5808357d249479e4db8bd1851bf3e",
            "_model_module": "@jupyter-widgets/controls",
            "children": [
              "IPY_MODEL_88c28dbdf7564b5795e3748ba77fcacb",
              "IPY_MODEL_4a13c906385c40d0868539e192ceedd9"
            ]
          }
        },
        "2fd5808357d249479e4db8bd1851bf3e": {
          "model_module": "@jupyter-widgets/base",
          "model_name": "LayoutModel",
          "state": {
            "_view_name": "LayoutView",
            "grid_template_rows": null,
            "right": null,
            "justify_content": null,
            "_view_module": "@jupyter-widgets/base",
            "overflow": null,
            "_model_module_version": "1.2.0",
            "_view_count": null,
            "flex_flow": null,
            "width": null,
            "min_width": null,
            "border": null,
            "align_items": null,
            "bottom": null,
            "_model_module": "@jupyter-widgets/base",
            "top": null,
            "grid_column": null,
            "overflow_y": null,
            "overflow_x": null,
            "grid_auto_flow": null,
            "grid_area": null,
            "grid_template_columns": null,
            "flex": null,
            "_model_name": "LayoutModel",
            "justify_items": null,
            "grid_row": null,
            "max_height": null,
            "align_content": null,
            "visibility": null,
            "align_self": null,
            "height": null,
            "min_height": null,
            "padding": null,
            "grid_auto_rows": null,
            "grid_gap": null,
            "max_width": null,
            "order": null,
            "_view_module_version": "1.2.0",
            "grid_template_areas": null,
            "object_position": null,
            "object_fit": null,
            "grid_auto_columns": null,
            "margin": null,
            "display": null,
            "left": null
          }
        },
        "88c28dbdf7564b5795e3748ba77fcacb": {
          "model_module": "@jupyter-widgets/controls",
          "model_name": "FloatProgressModel",
          "state": {
            "_view_name": "ProgressView",
            "style": "IPY_MODEL_c919bad90c394c65a366183f0222a1f4",
            "_dom_classes": [],
            "description": "",
            "_model_name": "FloatProgressModel",
            "bar_style": "success",
            "max": 28881,
            "_view_module": "@jupyter-widgets/controls",
            "_model_module_version": "1.5.0",
            "value": 28881,
            "_view_count": null,
            "_view_module_version": "1.5.0",
            "orientation": "horizontal",
            "min": 0,
            "description_tooltip": null,
            "_model_module": "@jupyter-widgets/controls",
            "layout": "IPY_MODEL_0e04ce888949473b974021448badc084"
          }
        },
        "4a13c906385c40d0868539e192ceedd9": {
          "model_module": "@jupyter-widgets/controls",
          "model_name": "HTMLModel",
          "state": {
            "_view_name": "HTMLView",
            "style": "IPY_MODEL_62167a26bbf040638fe2cb22aa2e3b25",
            "_dom_classes": [],
            "description": "",
            "_model_name": "HTMLModel",
            "placeholder": "​",
            "_view_module": "@jupyter-widgets/controls",
            "_model_module_version": "1.5.0",
            "value": " 29696/? [00:09&lt;00:00, 3110.15it/s]",
            "_view_count": null,
            "_view_module_version": "1.5.0",
            "description_tooltip": null,
            "_model_module": "@jupyter-widgets/controls",
            "layout": "IPY_MODEL_8721a32dcdb74f698e20b661973936a7"
          }
        },
        "c919bad90c394c65a366183f0222a1f4": {
          "model_module": "@jupyter-widgets/controls",
          "model_name": "ProgressStyleModel",
          "state": {
            "_view_name": "StyleView",
            "_model_name": "ProgressStyleModel",
            "description_width": "initial",
            "_view_module": "@jupyter-widgets/base",
            "_model_module_version": "1.5.0",
            "_view_count": null,
            "_view_module_version": "1.2.0",
            "bar_color": null,
            "_model_module": "@jupyter-widgets/controls"
          }
        },
        "0e04ce888949473b974021448badc084": {
          "model_module": "@jupyter-widgets/base",
          "model_name": "LayoutModel",
          "state": {
            "_view_name": "LayoutView",
            "grid_template_rows": null,
            "right": null,
            "justify_content": null,
            "_view_module": "@jupyter-widgets/base",
            "overflow": null,
            "_model_module_version": "1.2.0",
            "_view_count": null,
            "flex_flow": null,
            "width": null,
            "min_width": null,
            "border": null,
            "align_items": null,
            "bottom": null,
            "_model_module": "@jupyter-widgets/base",
            "top": null,
            "grid_column": null,
            "overflow_y": null,
            "overflow_x": null,
            "grid_auto_flow": null,
            "grid_area": null,
            "grid_template_columns": null,
            "flex": null,
            "_model_name": "LayoutModel",
            "justify_items": null,
            "grid_row": null,
            "max_height": null,
            "align_content": null,
            "visibility": null,
            "align_self": null,
            "height": null,
            "min_height": null,
            "padding": null,
            "grid_auto_rows": null,
            "grid_gap": null,
            "max_width": null,
            "order": null,
            "_view_module_version": "1.2.0",
            "grid_template_areas": null,
            "object_position": null,
            "object_fit": null,
            "grid_auto_columns": null,
            "margin": null,
            "display": null,
            "left": null
          }
        },
        "62167a26bbf040638fe2cb22aa2e3b25": {
          "model_module": "@jupyter-widgets/controls",
          "model_name": "DescriptionStyleModel",
          "state": {
            "_view_name": "StyleView",
            "_model_name": "DescriptionStyleModel",
            "description_width": "",
            "_view_module": "@jupyter-widgets/base",
            "_model_module_version": "1.5.0",
            "_view_count": null,
            "_view_module_version": "1.2.0",
            "_model_module": "@jupyter-widgets/controls"
          }
        },
        "8721a32dcdb74f698e20b661973936a7": {
          "model_module": "@jupyter-widgets/base",
          "model_name": "LayoutModel",
          "state": {
            "_view_name": "LayoutView",
            "grid_template_rows": null,
            "right": null,
            "justify_content": null,
            "_view_module": "@jupyter-widgets/base",
            "overflow": null,
            "_model_module_version": "1.2.0",
            "_view_count": null,
            "flex_flow": null,
            "width": null,
            "min_width": null,
            "border": null,
            "align_items": null,
            "bottom": null,
            "_model_module": "@jupyter-widgets/base",
            "top": null,
            "grid_column": null,
            "overflow_y": null,
            "overflow_x": null,
            "grid_auto_flow": null,
            "grid_area": null,
            "grid_template_columns": null,
            "flex": null,
            "_model_name": "LayoutModel",
            "justify_items": null,
            "grid_row": null,
            "max_height": null,
            "align_content": null,
            "visibility": null,
            "align_self": null,
            "height": null,
            "min_height": null,
            "padding": null,
            "grid_auto_rows": null,
            "grid_gap": null,
            "max_width": null,
            "order": null,
            "_view_module_version": "1.2.0",
            "grid_template_areas": null,
            "object_position": null,
            "object_fit": null,
            "grid_auto_columns": null,
            "margin": null,
            "display": null,
            "left": null
          }
        },
        "e5c4428ecad44c33b3ff7a24dc05fa28": {
          "model_module": "@jupyter-widgets/controls",
          "model_name": "HBoxModel",
          "state": {
            "_view_name": "HBoxView",
            "_dom_classes": [],
            "_model_name": "HBoxModel",
            "_view_module": "@jupyter-widgets/controls",
            "_model_module_version": "1.5.0",
            "_view_count": null,
            "_view_module_version": "1.5.0",
            "box_style": "",
            "layout": "IPY_MODEL_dc74156e0d0248faa1a78ff06129d85b",
            "_model_module": "@jupyter-widgets/controls",
            "children": [
              "IPY_MODEL_3a5c8b3c177f49cf989ea423ec6c2967",
              "IPY_MODEL_31924d152ec44e419afdafb390c8a351"
            ]
          }
        },
        "dc74156e0d0248faa1a78ff06129d85b": {
          "model_module": "@jupyter-widgets/base",
          "model_name": "LayoutModel",
          "state": {
            "_view_name": "LayoutView",
            "grid_template_rows": null,
            "right": null,
            "justify_content": null,
            "_view_module": "@jupyter-widgets/base",
            "overflow": null,
            "_model_module_version": "1.2.0",
            "_view_count": null,
            "flex_flow": null,
            "width": null,
            "min_width": null,
            "border": null,
            "align_items": null,
            "bottom": null,
            "_model_module": "@jupyter-widgets/base",
            "top": null,
            "grid_column": null,
            "overflow_y": null,
            "overflow_x": null,
            "grid_auto_flow": null,
            "grid_area": null,
            "grid_template_columns": null,
            "flex": null,
            "_model_name": "LayoutModel",
            "justify_items": null,
            "grid_row": null,
            "max_height": null,
            "align_content": null,
            "visibility": null,
            "align_self": null,
            "height": null,
            "min_height": null,
            "padding": null,
            "grid_auto_rows": null,
            "grid_gap": null,
            "max_width": null,
            "order": null,
            "_view_module_version": "1.2.0",
            "grid_template_areas": null,
            "object_position": null,
            "object_fit": null,
            "grid_auto_columns": null,
            "margin": null,
            "display": null,
            "left": null
          }
        },
        "3a5c8b3c177f49cf989ea423ec6c2967": {
          "model_module": "@jupyter-widgets/controls",
          "model_name": "FloatProgressModel",
          "state": {
            "_view_name": "ProgressView",
            "style": "IPY_MODEL_dfb20666fb13444aa00539b745b640be",
            "_dom_classes": [],
            "description": "",
            "_model_name": "FloatProgressModel",
            "bar_style": "success",
            "max": 1648877,
            "_view_module": "@jupyter-widgets/controls",
            "_model_module_version": "1.5.0",
            "value": 1648877,
            "_view_count": null,
            "_view_module_version": "1.5.0",
            "orientation": "horizontal",
            "min": 0,
            "description_tooltip": null,
            "_model_module": "@jupyter-widgets/controls",
            "layout": "IPY_MODEL_068e1ac029b3494ead13b56b0db75864"
          }
        },
        "31924d152ec44e419afdafb390c8a351": {
          "model_module": "@jupyter-widgets/controls",
          "model_name": "HTMLModel",
          "state": {
            "_view_name": "HTMLView",
            "style": "IPY_MODEL_1ead8d099fbc40b894c4e414cbff58e5",
            "_dom_classes": [],
            "description": "",
            "_model_name": "HTMLModel",
            "placeholder": "​",
            "_view_module": "@jupyter-widgets/controls",
            "_model_module_version": "1.5.0",
            "value": " 1649664/? [00:09&lt;00:00, 177703.41it/s]",
            "_view_count": null,
            "_view_module_version": "1.5.0",
            "description_tooltip": null,
            "_model_module": "@jupyter-widgets/controls",
            "layout": "IPY_MODEL_303b3c6cedc64b9daf619bbfedfdbb44"
          }
        },
        "dfb20666fb13444aa00539b745b640be": {
          "model_module": "@jupyter-widgets/controls",
          "model_name": "ProgressStyleModel",
          "state": {
            "_view_name": "StyleView",
            "_model_name": "ProgressStyleModel",
            "description_width": "initial",
            "_view_module": "@jupyter-widgets/base",
            "_model_module_version": "1.5.0",
            "_view_count": null,
            "_view_module_version": "1.2.0",
            "bar_color": null,
            "_model_module": "@jupyter-widgets/controls"
          }
        },
        "068e1ac029b3494ead13b56b0db75864": {
          "model_module": "@jupyter-widgets/base",
          "model_name": "LayoutModel",
          "state": {
            "_view_name": "LayoutView",
            "grid_template_rows": null,
            "right": null,
            "justify_content": null,
            "_view_module": "@jupyter-widgets/base",
            "overflow": null,
            "_model_module_version": "1.2.0",
            "_view_count": null,
            "flex_flow": null,
            "width": null,
            "min_width": null,
            "border": null,
            "align_items": null,
            "bottom": null,
            "_model_module": "@jupyter-widgets/base",
            "top": null,
            "grid_column": null,
            "overflow_y": null,
            "overflow_x": null,
            "grid_auto_flow": null,
            "grid_area": null,
            "grid_template_columns": null,
            "flex": null,
            "_model_name": "LayoutModel",
            "justify_items": null,
            "grid_row": null,
            "max_height": null,
            "align_content": null,
            "visibility": null,
            "align_self": null,
            "height": null,
            "min_height": null,
            "padding": null,
            "grid_auto_rows": null,
            "grid_gap": null,
            "max_width": null,
            "order": null,
            "_view_module_version": "1.2.0",
            "grid_template_areas": null,
            "object_position": null,
            "object_fit": null,
            "grid_auto_columns": null,
            "margin": null,
            "display": null,
            "left": null
          }
        },
        "1ead8d099fbc40b894c4e414cbff58e5": {
          "model_module": "@jupyter-widgets/controls",
          "model_name": "DescriptionStyleModel",
          "state": {
            "_view_name": "StyleView",
            "_model_name": "DescriptionStyleModel",
            "description_width": "",
            "_view_module": "@jupyter-widgets/base",
            "_model_module_version": "1.5.0",
            "_view_count": null,
            "_view_module_version": "1.2.0",
            "_model_module": "@jupyter-widgets/controls"
          }
        },
        "303b3c6cedc64b9daf619bbfedfdbb44": {
          "model_module": "@jupyter-widgets/base",
          "model_name": "LayoutModel",
          "state": {
            "_view_name": "LayoutView",
            "grid_template_rows": null,
            "right": null,
            "justify_content": null,
            "_view_module": "@jupyter-widgets/base",
            "overflow": null,
            "_model_module_version": "1.2.0",
            "_view_count": null,
            "flex_flow": null,
            "width": null,
            "min_width": null,
            "border": null,
            "align_items": null,
            "bottom": null,
            "_model_module": "@jupyter-widgets/base",
            "top": null,
            "grid_column": null,
            "overflow_y": null,
            "overflow_x": null,
            "grid_auto_flow": null,
            "grid_area": null,
            "grid_template_columns": null,
            "flex": null,
            "_model_name": "LayoutModel",
            "justify_items": null,
            "grid_row": null,
            "max_height": null,
            "align_content": null,
            "visibility": null,
            "align_self": null,
            "height": null,
            "min_height": null,
            "padding": null,
            "grid_auto_rows": null,
            "grid_gap": null,
            "max_width": null,
            "order": null,
            "_view_module_version": "1.2.0",
            "grid_template_areas": null,
            "object_position": null,
            "object_fit": null,
            "grid_auto_columns": null,
            "margin": null,
            "display": null,
            "left": null
          }
        },
        "c4d4ea9f324242b89c50504b7d14a522": {
          "model_module": "@jupyter-widgets/controls",
          "model_name": "HBoxModel",
          "state": {
            "_view_name": "HBoxView",
            "_dom_classes": [],
            "_model_name": "HBoxModel",
            "_view_module": "@jupyter-widgets/controls",
            "_model_module_version": "1.5.0",
            "_view_count": null,
            "_view_module_version": "1.5.0",
            "box_style": "",
            "layout": "IPY_MODEL_11a32ff39061416fa837b1f7e9346756",
            "_model_module": "@jupyter-widgets/controls",
            "children": [
              "IPY_MODEL_94387e493c8b4543932385b81433ad6f",
              "IPY_MODEL_19fb07e6d82040bca4ef63d8de6245dc"
            ]
          }
        },
        "11a32ff39061416fa837b1f7e9346756": {
          "model_module": "@jupyter-widgets/base",
          "model_name": "LayoutModel",
          "state": {
            "_view_name": "LayoutView",
            "grid_template_rows": null,
            "right": null,
            "justify_content": null,
            "_view_module": "@jupyter-widgets/base",
            "overflow": null,
            "_model_module_version": "1.2.0",
            "_view_count": null,
            "flex_flow": null,
            "width": null,
            "min_width": null,
            "border": null,
            "align_items": null,
            "bottom": null,
            "_model_module": "@jupyter-widgets/base",
            "top": null,
            "grid_column": null,
            "overflow_y": null,
            "overflow_x": null,
            "grid_auto_flow": null,
            "grid_area": null,
            "grid_template_columns": null,
            "flex": null,
            "_model_name": "LayoutModel",
            "justify_items": null,
            "grid_row": null,
            "max_height": null,
            "align_content": null,
            "visibility": null,
            "align_self": null,
            "height": null,
            "min_height": null,
            "padding": null,
            "grid_auto_rows": null,
            "grid_gap": null,
            "max_width": null,
            "order": null,
            "_view_module_version": "1.2.0",
            "grid_template_areas": null,
            "object_position": null,
            "object_fit": null,
            "grid_auto_columns": null,
            "margin": null,
            "display": null,
            "left": null
          }
        },
        "94387e493c8b4543932385b81433ad6f": {
          "model_module": "@jupyter-widgets/controls",
          "model_name": "FloatProgressModel",
          "state": {
            "_view_name": "ProgressView",
            "style": "IPY_MODEL_7431f9cd95b74e76b2192f480c3f5f9a",
            "_dom_classes": [],
            "description": "",
            "_model_name": "FloatProgressModel",
            "bar_style": "success",
            "max": 4542,
            "_view_module": "@jupyter-widgets/controls",
            "_model_module_version": "1.5.0",
            "value": 4542,
            "_view_count": null,
            "_view_module_version": "1.5.0",
            "orientation": "horizontal",
            "min": 0,
            "description_tooltip": null,
            "_model_module": "@jupyter-widgets/controls",
            "layout": "IPY_MODEL_ddce207f46ed4335a621561661964790"
          }
        },
        "19fb07e6d82040bca4ef63d8de6245dc": {
          "model_module": "@jupyter-widgets/controls",
          "model_name": "HTMLModel",
          "state": {
            "_view_name": "HTMLView",
            "style": "IPY_MODEL_7149903b98a742a39fe619a9f4a8e54a",
            "_dom_classes": [],
            "description": "",
            "_model_name": "HTMLModel",
            "placeholder": "​",
            "_view_module": "@jupyter-widgets/controls",
            "_model_module_version": "1.5.0",
            "value": " 5120/? [00:09&lt;00:00, 568.36it/s]",
            "_view_count": null,
            "_view_module_version": "1.5.0",
            "description_tooltip": null,
            "_model_module": "@jupyter-widgets/controls",
            "layout": "IPY_MODEL_ca3c0d0665134dfd8627aa6d6a2d467a"
          }
        },
        "7431f9cd95b74e76b2192f480c3f5f9a": {
          "model_module": "@jupyter-widgets/controls",
          "model_name": "ProgressStyleModel",
          "state": {
            "_view_name": "StyleView",
            "_model_name": "ProgressStyleModel",
            "description_width": "initial",
            "_view_module": "@jupyter-widgets/base",
            "_model_module_version": "1.5.0",
            "_view_count": null,
            "_view_module_version": "1.2.0",
            "bar_color": null,
            "_model_module": "@jupyter-widgets/controls"
          }
        },
        "ddce207f46ed4335a621561661964790": {
          "model_module": "@jupyter-widgets/base",
          "model_name": "LayoutModel",
          "state": {
            "_view_name": "LayoutView",
            "grid_template_rows": null,
            "right": null,
            "justify_content": null,
            "_view_module": "@jupyter-widgets/base",
            "overflow": null,
            "_model_module_version": "1.2.0",
            "_view_count": null,
            "flex_flow": null,
            "width": null,
            "min_width": null,
            "border": null,
            "align_items": null,
            "bottom": null,
            "_model_module": "@jupyter-widgets/base",
            "top": null,
            "grid_column": null,
            "overflow_y": null,
            "overflow_x": null,
            "grid_auto_flow": null,
            "grid_area": null,
            "grid_template_columns": null,
            "flex": null,
            "_model_name": "LayoutModel",
            "justify_items": null,
            "grid_row": null,
            "max_height": null,
            "align_content": null,
            "visibility": null,
            "align_self": null,
            "height": null,
            "min_height": null,
            "padding": null,
            "grid_auto_rows": null,
            "grid_gap": null,
            "max_width": null,
            "order": null,
            "_view_module_version": "1.2.0",
            "grid_template_areas": null,
            "object_position": null,
            "object_fit": null,
            "grid_auto_columns": null,
            "margin": null,
            "display": null,
            "left": null
          }
        },
        "7149903b98a742a39fe619a9f4a8e54a": {
          "model_module": "@jupyter-widgets/controls",
          "model_name": "DescriptionStyleModel",
          "state": {
            "_view_name": "StyleView",
            "_model_name": "DescriptionStyleModel",
            "description_width": "",
            "_view_module": "@jupyter-widgets/base",
            "_model_module_version": "1.5.0",
            "_view_count": null,
            "_view_module_version": "1.2.0",
            "_model_module": "@jupyter-widgets/controls"
          }
        },
        "ca3c0d0665134dfd8627aa6d6a2d467a": {
          "model_module": "@jupyter-widgets/base",
          "model_name": "LayoutModel",
          "state": {
            "_view_name": "LayoutView",
            "grid_template_rows": null,
            "right": null,
            "justify_content": null,
            "_view_module": "@jupyter-widgets/base",
            "overflow": null,
            "_model_module_version": "1.2.0",
            "_view_count": null,
            "flex_flow": null,
            "width": null,
            "min_width": null,
            "border": null,
            "align_items": null,
            "bottom": null,
            "_model_module": "@jupyter-widgets/base",
            "top": null,
            "grid_column": null,
            "overflow_y": null,
            "overflow_x": null,
            "grid_auto_flow": null,
            "grid_area": null,
            "grid_template_columns": null,
            "flex": null,
            "_model_name": "LayoutModel",
            "justify_items": null,
            "grid_row": null,
            "max_height": null,
            "align_content": null,
            "visibility": null,
            "align_self": null,
            "height": null,
            "min_height": null,
            "padding": null,
            "grid_auto_rows": null,
            "grid_gap": null,
            "max_width": null,
            "order": null,
            "_view_module_version": "1.2.0",
            "grid_template_areas": null,
            "object_position": null,
            "object_fit": null,
            "grid_auto_columns": null,
            "margin": null,
            "display": null,
            "left": null
          }
        }
      }
    }
  },
  "cells": [
    {
      "cell_type": "markdown",
      "metadata": {
        "id": "view-in-github",
        "colab_type": "text"
      },
      "source": [
        "<a href=\"https://colab.research.google.com/github/avichaljn97/tsai-eva6/blob/main/EVA-6_session3_MNIST_randomnumber_sum.ipynb\" target=\"_parent\"><img src=\"https://colab.research.google.com/assets/colab-badge.svg\" alt=\"Open In Colab\"/></a>"
      ]
    },
    {
      "cell_type": "code",
      "metadata": {
        "id": "eFHqwtCyG8BG"
      },
      "source": [
        "from __future__ import print_function\n",
        "import torch\n",
        "import torchvision # provide access to datasets, models, transforms, utils, etc\n",
        "import torchvision.transforms as transforms\n",
        "from torch.utils.data import Dataset\n",
        "import numpy as np\n",
        "import matplotlib.pyplot as plt\n",
        "import torch.nn as nn\n",
        "import torch.nn.functional as F\n",
        "import torch.optim as optim\n",
        "from tqdm import tqdm"
      ],
      "execution_count": null,
      "outputs": []
    },
    {
      "cell_type": "code",
      "metadata": {
        "id": "ToqEbK_So8tT",
        "colab": {
          "base_uri": "https://localhost:8080/",
          "height": 811,
          "referenced_widgets": [
            "3e0f960a388547a1b0c47279bfa534e4",
            "8e871b0f2ef54141aaf44ad261b7addd",
            "f89b4291a78d4cb4a184671c2c8626b8",
            "90996ca5eb414f39bf25d38960563207",
            "2cbfc39fd97549f2951d74aaa190c39c",
            "be94c77c53c643ee9fb1044bb3311598",
            "4ab73f10ca5443648cd5f1145fe5ed4d",
            "6c80290fbf8844bca08d3b3792ca5519",
            "92475c883804468fa7b3fadc34486661",
            "2fd5808357d249479e4db8bd1851bf3e",
            "88c28dbdf7564b5795e3748ba77fcacb",
            "4a13c906385c40d0868539e192ceedd9",
            "c919bad90c394c65a366183f0222a1f4",
            "0e04ce888949473b974021448badc084",
            "62167a26bbf040638fe2cb22aa2e3b25",
            "8721a32dcdb74f698e20b661973936a7",
            "e5c4428ecad44c33b3ff7a24dc05fa28",
            "dc74156e0d0248faa1a78ff06129d85b",
            "3a5c8b3c177f49cf989ea423ec6c2967",
            "31924d152ec44e419afdafb390c8a351",
            "dfb20666fb13444aa00539b745b640be",
            "068e1ac029b3494ead13b56b0db75864",
            "1ead8d099fbc40b894c4e414cbff58e5",
            "303b3c6cedc64b9daf619bbfedfdbb44",
            "c4d4ea9f324242b89c50504b7d14a522",
            "11a32ff39061416fa837b1f7e9346756",
            "94387e493c8b4543932385b81433ad6f",
            "19fb07e6d82040bca4ef63d8de6245dc",
            "7431f9cd95b74e76b2192f480c3f5f9a",
            "ddce207f46ed4335a621561661964790",
            "7149903b98a742a39fe619a9f4a8e54a",
            "ca3c0d0665134dfd8627aa6d6a2d467a"
          ]
        },
        "outputId": "bc23779c-7526-40f2-8b19-6273c283abb8"
      },
      "source": [
        "train_set = torchvision.datasets.MNIST(#creating the training set, it will give all 60000 data set in a single var \n",
        "    root='./data'\n",
        "    ,train=True\n",
        "    ,download=True\n",
        "    ,transform=transforms.Compose([\n",
        "        transforms.ToTensor()#coverting the data in tensor form\n",
        "        ,transforms.Normalize((0.1307,), (0.3081,))\n",
        "    ])\n",
        ")\n",
        "\n",
        "test_set = torchvision.datasets.MNIST(#creating the training set, it will give all 60000 data set in a single var \n",
        "    root='./data'\n",
        "    ,train=False\n",
        "    ,download=True\n",
        "    ,transform=transforms.Compose([\n",
        "        transforms.ToTensor()#coverting the data in tensor form\n",
        "        ,transforms.Normalize((0.1307,), (0.3081,))\n",
        "    ])\n",
        ")"
      ],
      "execution_count": null,
      "outputs": [
        {
          "output_type": "stream",
          "text": [
            "Downloading http://yann.lecun.com/exdb/mnist/train-images-idx3-ubyte.gz\n",
            "Downloading http://yann.lecun.com/exdb/mnist/train-images-idx3-ubyte.gz to ./data/MNIST/raw/train-images-idx3-ubyte.gz\n",
            "Failed to download (trying next):\n",
            "HTTP Error 503: Service Unavailable\n",
            "\n",
            "Downloading https://ossci-datasets.s3.amazonaws.com/mnist/train-images-idx3-ubyte.gz\n",
            "Downloading https://ossci-datasets.s3.amazonaws.com/mnist/train-images-idx3-ubyte.gz to ./data/MNIST/raw/train-images-idx3-ubyte.gz\n"
          ],
          "name": "stdout"
        },
        {
          "output_type": "display_data",
          "data": {
            "application/vnd.jupyter.widget-view+json": {
              "model_id": "3e0f960a388547a1b0c47279bfa534e4",
              "version_minor": 0,
              "version_major": 2
            },
            "text/plain": [
              "HBox(children=(FloatProgress(value=0.0, max=9912422.0), HTML(value='')))"
            ]
          },
          "metadata": {
            "tags": []
          }
        },
        {
          "output_type": "stream",
          "text": [
            "\n",
            "Extracting ./data/MNIST/raw/train-images-idx3-ubyte.gz to ./data/MNIST/raw\n",
            "\n",
            "Downloading http://yann.lecun.com/exdb/mnist/train-labels-idx1-ubyte.gz\n",
            "Downloading http://yann.lecun.com/exdb/mnist/train-labels-idx1-ubyte.gz to ./data/MNIST/raw/train-labels-idx1-ubyte.gz\n"
          ],
          "name": "stdout"
        },
        {
          "output_type": "display_data",
          "data": {
            "application/vnd.jupyter.widget-view+json": {
              "model_id": "92475c883804468fa7b3fadc34486661",
              "version_minor": 0,
              "version_major": 2
            },
            "text/plain": [
              "HBox(children=(FloatProgress(value=0.0, max=28881.0), HTML(value='')))"
            ]
          },
          "metadata": {
            "tags": []
          }
        },
        {
          "output_type": "stream",
          "text": [
            "\n",
            "Extracting ./data/MNIST/raw/train-labels-idx1-ubyte.gz to ./data/MNIST/raw\n",
            "\n",
            "Downloading http://yann.lecun.com/exdb/mnist/t10k-images-idx3-ubyte.gz\n",
            "Downloading http://yann.lecun.com/exdb/mnist/t10k-images-idx3-ubyte.gz to ./data/MNIST/raw/t10k-images-idx3-ubyte.gz\n",
            "Failed to download (trying next):\n",
            "HTTP Error 503: Service Unavailable\n",
            "\n",
            "Downloading https://ossci-datasets.s3.amazonaws.com/mnist/t10k-images-idx3-ubyte.gz\n",
            "Downloading https://ossci-datasets.s3.amazonaws.com/mnist/t10k-images-idx3-ubyte.gz to ./data/MNIST/raw/t10k-images-idx3-ubyte.gz\n"
          ],
          "name": "stdout"
        },
        {
          "output_type": "display_data",
          "data": {
            "application/vnd.jupyter.widget-view+json": {
              "model_id": "e5c4428ecad44c33b3ff7a24dc05fa28",
              "version_minor": 0,
              "version_major": 2
            },
            "text/plain": [
              "HBox(children=(FloatProgress(value=0.0, max=1648877.0), HTML(value='')))"
            ]
          },
          "metadata": {
            "tags": []
          }
        },
        {
          "output_type": "stream",
          "text": [
            "\n",
            "Extracting ./data/MNIST/raw/t10k-images-idx3-ubyte.gz to ./data/MNIST/raw\n",
            "\n",
            "Downloading http://yann.lecun.com/exdb/mnist/t10k-labels-idx1-ubyte.gz\n",
            "Failed to download (trying next):\n",
            "HTTP Error 503: Service Unavailable\n",
            "\n",
            "Downloading https://ossci-datasets.s3.amazonaws.com/mnist/t10k-labels-idx1-ubyte.gz\n",
            "Downloading https://ossci-datasets.s3.amazonaws.com/mnist/t10k-labels-idx1-ubyte.gz to ./data/MNIST/raw/t10k-labels-idx1-ubyte.gz\n"
          ],
          "name": "stdout"
        },
        {
          "output_type": "display_data",
          "data": {
            "application/vnd.jupyter.widget-view+json": {
              "model_id": "c4d4ea9f324242b89c50504b7d14a522",
              "version_minor": 0,
              "version_major": 2
            },
            "text/plain": [
              "HBox(children=(FloatProgress(value=0.0, max=4542.0), HTML(value='')))"
            ]
          },
          "metadata": {
            "tags": []
          }
        },
        {
          "output_type": "stream",
          "text": [
            "\n",
            "Extracting ./data/MNIST/raw/t10k-labels-idx1-ubyte.gz to ./data/MNIST/raw\n",
            "\n",
            "Processing...\n",
            "Done!\n"
          ],
          "name": "stdout"
        },
        {
          "output_type": "stream",
          "text": [
            "/usr/local/lib/python3.7/dist-packages/torchvision/datasets/mnist.py:502: UserWarning: The given NumPy array is not writeable, and PyTorch does not support non-writeable tensors. This means you can write to the underlying (supposedly non-writeable) NumPy array using the tensor. You may want to copy the array to protect its data or make it writeable before converting it to a tensor. This type of warning will be suppressed for the rest of this program. (Triggered internally at  /pytorch/torch/csrc/utils/tensor_numpy.cpp:143.)\n",
            "  return torch.from_numpy(parsed.astype(m[2], copy=False)).view(*s)\n"
          ],
          "name": "stderr"
        }
      ]
    },
    {
      "cell_type": "code",
      "metadata": {
        "id": "lxVEfRvapOBl"
      },
      "source": [
        "#train_loader = torch.utils.data.DataLoader(train_set#DataLoader helps in forming batches and shuffling\n",
        "#    ,batch_size=32\n",
        "#    ,shuffle=True\n",
        "#)"
      ],
      "execution_count": null,
      "outputs": []
    },
    {
      "cell_type": "code",
      "metadata": {
        "id": "yvLkyTkuBCM9"
      },
      "source": [
        "data_size = len(train_set)"
      ],
      "execution_count": null,
      "outputs": []
    },
    {
      "cell_type": "code",
      "metadata": {
        "id": "pZwU4qwAAar3"
      },
      "source": [
        "class Network(nn.Module):\n",
        "    def __init__(self):\n",
        "        super(Network,self).__init__()\n",
        "\n",
        "        self.conv1 = nn.Conv2d(in_channels=1, out_channels=32, kernel_size=3, padding=1)#28*28*32\n",
        "        self.pool1 = nn.MaxPool2d(2,2)#14*14*32\n",
        "\n",
        "        self.conv2 = nn.Conv2d(in_channels=32, out_channels=64, kernel_size=3, padding=1)#14*14*64\n",
        "        self.pool2 = nn.MaxPool2d(2,2)#7*7*128\n",
        "\n",
        "        self.conv3 = nn.Conv2d(in_channels=64, out_channels=128, kernel_size=3)#7*7*128\n",
        "\n",
        "        self.GAP = nn.AvgPool2d(kernel_size=5)#1*1*256\n",
        "\n",
        "        self.fc1 = nn.Linear(in_features=128 + 10, out_features=64)\n",
        "        self.fc2 = nn.Linear(in_features=64, out_features=32)\n",
        "        self.out1 = nn.Linear(in_features=32, out_features=10)\n",
        "        self.out2 = nn.Linear(in_features=32, out_features=19)\n",
        "\n",
        "    def forward(self, x,y): \n",
        "\n",
        "        x = self.pool1(F.relu(self.conv1(x)))\n",
        "        \n",
        "        x = self.pool2(F.relu(self.conv2(x)))\n",
        "\n",
        "        x = self.GAP(F.relu(self.conv3(x)))\n",
        "\n",
        "        #x = self.GAP(x)\n",
        "        x = x.reshape(-1,128)\n",
        "        \n",
        "        x = torch.cat((x,y),dim=1)\n",
        "        x = x.reshape(-1, 128 + 10)\n",
        "        \n",
        "        x = self.fc1(x)\n",
        "        x = self.fc2(x)\n",
        "        out1 = self.out1(x)\n",
        "        out2 = self.out2(x)\n",
        "        out1 = out1.reshape(-1,10)\n",
        "        out2 = out2.reshape(-1,19)\n",
        "\n",
        " \n",
        "        return F.log_softmax(out1, dim = 1),F.log_softmax(out2, dim = 1)"
      ],
      "execution_count": null,
      "outputs": []
    },
    {
      "cell_type": "code",
      "metadata": {
        "id": "5iRFZFPeIqJR"
      },
      "source": [
        "def get_num_correct(preds, labels):\n",
        "  return preds.argmax(dim=1).eq(labels).sum().item()"
      ],
      "execution_count": null,
      "outputs": []
    },
    {
      "cell_type": "code",
      "metadata": {
        "id": "m85k3wehdqRj"
      },
      "source": [
        "#batch=next(iter(train_loader))\n",
        "#images,labels=batch\n",
        "#network=Network()\n",
        "#pred=network(images)\n",
        "#pred.argmax(1)\n",
        "#loss = F.nll_loss(pred, labels)\n",
        "#loss.item()\n",
        "#pred,labels"
      ],
      "execution_count": null,
      "outputs": []
    },
    {
      "cell_type": "code",
      "metadata": {
        "colab": {
          "base_uri": "https://localhost:8080/",
          "height": 666
        },
        "id": "xFTqlWz6gTHo",
        "outputId": "052061dc-29ec-43a3-e57d-ed11fc66883c"
      },
      "source": [
        "!pip install torchsummary \n",
        "\n",
        "from torchsummary import summary \n",
        "\n",
        "use_cuda = torch.cuda.is_available() \n",
        "# check if CUDA is available or not\n",
        "# CUDA is a parallel computing platform for general computing on GPUs (graphics processing units)\n",
        "# CUDA enables developers to speed up compute-intensive applications by using the power of GPUs for the parallelizable part of the computation.\n",
        " \n",
        "device = torch.device(\"cuda\" if use_cuda else \"cpu\") \n",
        "# use gpu if cuda is available\n",
        "# else use cpu\n",
        "network=Network()\n",
        "network = network.to(device)\n",
        "# pass the entire model to gpu if available or cpu if gpu is not available\n",
        " \n",
        "#summary(mnist_model)\n",
        "\n",
        "#print(network)\n",
        "summary(network, input_size=[(1,28,28),(10,)])"
      ],
      "execution_count": null,
      "outputs": [
        {
          "output_type": "stream",
          "text": [
            "Requirement already satisfied: torchsummary in /usr/local/lib/python3.7/dist-packages (1.5.1)\n",
            "----------------------------------------------------------------\n",
            "        Layer (type)               Output Shape         Param #\n",
            "================================================================\n",
            "            Conv2d-1           [-1, 32, 28, 28]             320\n",
            "         MaxPool2d-2           [-1, 32, 14, 14]               0\n",
            "            Conv2d-3           [-1, 64, 14, 14]          18,496\n",
            "         MaxPool2d-4             [-1, 64, 7, 7]               0\n",
            "            Conv2d-5            [-1, 128, 5, 5]          73,856\n",
            "         AvgPool2d-6            [-1, 128, 1, 1]               0\n",
            "            Linear-7                   [-1, 64]           8,896\n",
            "            Linear-8                   [-1, 32]           2,080\n",
            "            Linear-9                   [-1, 10]             330\n",
            "           Linear-10                   [-1, 19]             627\n"
          ],
          "name": "stdout"
        },
        {
          "output_type": "stream",
          "text": [
            "/usr/local/lib/python3.7/dist-packages/numpy/core/fromnumeric.py:87: VisibleDeprecationWarning: Creating an ndarray from ragged nested sequences (which is a list-or-tuple of lists-or-tuples-or ndarrays with different lengths or shapes) is deprecated. If you meant to do this, you must specify 'dtype=object' when creating the ndarray\n",
            "  return ufunc.reduce(obj, axis, dtype, out, **passkwargs)\n"
          ],
          "name": "stderr"
        },
        {
          "output_type": "error",
          "ename": "TypeError",
          "evalue": "ignored",
          "traceback": [
            "\u001b[0;31m---------------------------------------------------------------------------\u001b[0m",
            "\u001b[0;31mTypeError\u001b[0m                                 Traceback (most recent call last)",
            "\u001b[0;32m<ipython-input-6-c3c5592baf18>\u001b[0m in \u001b[0;36m<module>\u001b[0;34m()\u001b[0m\n\u001b[1;32m     18\u001b[0m \u001b[0;34m\u001b[0m\u001b[0m\n\u001b[1;32m     19\u001b[0m \u001b[0;31m#print(network)\u001b[0m\u001b[0;34m\u001b[0m\u001b[0;34m\u001b[0m\u001b[0;34m\u001b[0m\u001b[0m\n\u001b[0;32m---> 20\u001b[0;31m \u001b[0msummary\u001b[0m\u001b[0;34m(\u001b[0m\u001b[0mnetwork\u001b[0m\u001b[0;34m,\u001b[0m \u001b[0minput_size\u001b[0m\u001b[0;34m=\u001b[0m\u001b[0;34m[\u001b[0m\u001b[0;34m(\u001b[0m\u001b[0;36m1\u001b[0m\u001b[0;34m,\u001b[0m\u001b[0;36m28\u001b[0m\u001b[0;34m,\u001b[0m\u001b[0;36m28\u001b[0m\u001b[0;34m)\u001b[0m\u001b[0;34m,\u001b[0m\u001b[0;34m(\u001b[0m\u001b[0;36m10\u001b[0m\u001b[0;34m,\u001b[0m\u001b[0;34m)\u001b[0m\u001b[0;34m]\u001b[0m\u001b[0;34m)\u001b[0m\u001b[0;34m\u001b[0m\u001b[0;34m\u001b[0m\u001b[0m\n\u001b[0m",
            "\u001b[0;32m/usr/local/lib/python3.7/dist-packages/torchsummary/torchsummary.py\u001b[0m in \u001b[0;36msummary\u001b[0;34m(model, input_size, batch_size, device)\u001b[0m\n\u001b[1;32m     98\u001b[0m \u001b[0;34m\u001b[0m\u001b[0m\n\u001b[1;32m     99\u001b[0m     \u001b[0;31m# assume 4 bytes/number (float on cuda).\u001b[0m\u001b[0;34m\u001b[0m\u001b[0;34m\u001b[0m\u001b[0;34m\u001b[0m\u001b[0m\n\u001b[0;32m--> 100\u001b[0;31m     \u001b[0mtotal_input_size\u001b[0m \u001b[0;34m=\u001b[0m \u001b[0mabs\u001b[0m\u001b[0;34m(\u001b[0m\u001b[0mnp\u001b[0m\u001b[0;34m.\u001b[0m\u001b[0mprod\u001b[0m\u001b[0;34m(\u001b[0m\u001b[0minput_size\u001b[0m\u001b[0;34m)\u001b[0m \u001b[0;34m*\u001b[0m \u001b[0mbatch_size\u001b[0m \u001b[0;34m*\u001b[0m \u001b[0;36m4.\u001b[0m \u001b[0;34m/\u001b[0m \u001b[0;34m(\u001b[0m\u001b[0;36m1024\u001b[0m \u001b[0;34m**\u001b[0m \u001b[0;36m2.\u001b[0m\u001b[0;34m)\u001b[0m\u001b[0;34m)\u001b[0m\u001b[0;34m\u001b[0m\u001b[0;34m\u001b[0m\u001b[0m\n\u001b[0m\u001b[1;32m    101\u001b[0m     \u001b[0mtotal_output_size\u001b[0m \u001b[0;34m=\u001b[0m \u001b[0mabs\u001b[0m\u001b[0;34m(\u001b[0m\u001b[0;36m2.\u001b[0m \u001b[0;34m*\u001b[0m \u001b[0mtotal_output\u001b[0m \u001b[0;34m*\u001b[0m \u001b[0;36m4.\u001b[0m \u001b[0;34m/\u001b[0m \u001b[0;34m(\u001b[0m\u001b[0;36m1024\u001b[0m \u001b[0;34m**\u001b[0m \u001b[0;36m2.\u001b[0m\u001b[0;34m)\u001b[0m\u001b[0;34m)\u001b[0m  \u001b[0;31m# x2 for gradients\u001b[0m\u001b[0;34m\u001b[0m\u001b[0;34m\u001b[0m\u001b[0m\n\u001b[1;32m    102\u001b[0m     \u001b[0mtotal_params_size\u001b[0m \u001b[0;34m=\u001b[0m \u001b[0mabs\u001b[0m\u001b[0;34m(\u001b[0m\u001b[0mtotal_params\u001b[0m\u001b[0;34m.\u001b[0m\u001b[0mnumpy\u001b[0m\u001b[0;34m(\u001b[0m\u001b[0;34m)\u001b[0m \u001b[0;34m*\u001b[0m \u001b[0;36m4.\u001b[0m \u001b[0;34m/\u001b[0m \u001b[0;34m(\u001b[0m\u001b[0;36m1024\u001b[0m \u001b[0;34m**\u001b[0m \u001b[0;36m2.\u001b[0m\u001b[0;34m)\u001b[0m\u001b[0;34m)\u001b[0m\u001b[0;34m\u001b[0m\u001b[0;34m\u001b[0m\u001b[0m\n",
            "\u001b[0;32m<__array_function__ internals>\u001b[0m in \u001b[0;36mprod\u001b[0;34m(*args, **kwargs)\u001b[0m\n",
            "\u001b[0;32m/usr/local/lib/python3.7/dist-packages/numpy/core/fromnumeric.py\u001b[0m in \u001b[0;36mprod\u001b[0;34m(a, axis, dtype, out, keepdims, initial, where)\u001b[0m\n\u001b[1;32m   2998\u001b[0m     \"\"\"\n\u001b[1;32m   2999\u001b[0m     return _wrapreduction(a, np.multiply, 'prod', axis, dtype, out,\n\u001b[0;32m-> 3000\u001b[0;31m                           keepdims=keepdims, initial=initial, where=where)\n\u001b[0m\u001b[1;32m   3001\u001b[0m \u001b[0;34m\u001b[0m\u001b[0m\n\u001b[1;32m   3002\u001b[0m \u001b[0;34m\u001b[0m\u001b[0m\n",
            "\u001b[0;32m/usr/local/lib/python3.7/dist-packages/numpy/core/fromnumeric.py\u001b[0m in \u001b[0;36m_wrapreduction\u001b[0;34m(obj, ufunc, method, axis, dtype, out, **kwargs)\u001b[0m\n\u001b[1;32m     85\u001b[0m                 \u001b[0;32mreturn\u001b[0m \u001b[0mreduction\u001b[0m\u001b[0;34m(\u001b[0m\u001b[0maxis\u001b[0m\u001b[0;34m=\u001b[0m\u001b[0maxis\u001b[0m\u001b[0;34m,\u001b[0m \u001b[0mout\u001b[0m\u001b[0;34m=\u001b[0m\u001b[0mout\u001b[0m\u001b[0;34m,\u001b[0m \u001b[0;34m**\u001b[0m\u001b[0mpasskwargs\u001b[0m\u001b[0;34m)\u001b[0m\u001b[0;34m\u001b[0m\u001b[0;34m\u001b[0m\u001b[0m\n\u001b[1;32m     86\u001b[0m \u001b[0;34m\u001b[0m\u001b[0m\n\u001b[0;32m---> 87\u001b[0;31m     \u001b[0;32mreturn\u001b[0m \u001b[0mufunc\u001b[0m\u001b[0;34m.\u001b[0m\u001b[0mreduce\u001b[0m\u001b[0;34m(\u001b[0m\u001b[0mobj\u001b[0m\u001b[0;34m,\u001b[0m \u001b[0maxis\u001b[0m\u001b[0;34m,\u001b[0m \u001b[0mdtype\u001b[0m\u001b[0;34m,\u001b[0m \u001b[0mout\u001b[0m\u001b[0;34m,\u001b[0m \u001b[0;34m**\u001b[0m\u001b[0mpasskwargs\u001b[0m\u001b[0;34m)\u001b[0m\u001b[0;34m\u001b[0m\u001b[0;34m\u001b[0m\u001b[0m\n\u001b[0m\u001b[1;32m     88\u001b[0m \u001b[0;34m\u001b[0m\u001b[0m\n\u001b[1;32m     89\u001b[0m \u001b[0;34m\u001b[0m\u001b[0m\n",
            "\u001b[0;31mTypeError\u001b[0m: can't multiply sequence by non-int of type 'tuple'"
          ]
        }
      ]
    },
    {
      "cell_type": "code",
      "metadata": {
        "id": "3FGC7d7fHy4I"
      },
      "source": [
        "training_MNIST_loss, training_MNIST_accuracy, testing_MNIST_accuracy=[], [], []\n",
        "training_sum_loss, training_sum_accuracy, testing_sum_accuracy=[], [], []\n",
        "\n",
        "\n",
        "def train(network, device, train_loader, optimizer, epoch):\n",
        "  total_loss1,total_loss2 = 0,0\n",
        "  total_correct = 0\n",
        "  total_sum_correct = 0\n",
        "  loss = 0\n",
        "\n",
        "  for batch in train_loader:\n",
        "    images, labels = batch\n",
        "    images = images.to(device)\n",
        "    labels = labels.to(device)\n",
        "    randDigits = torch.randint(0, 10, (100,))\n",
        "    digOne = F.one_hot(randDigits, num_classes=10)\n",
        "    randDigits = randDigits.to(device)\n",
        "    digOne = digOne.to(device)\n",
        "    \n",
        "    preds, sum_preds = network(images, digOne) # Pass Batch\n",
        "    loss1 = F.nll_loss(preds, labels) # Calculate Loss\n",
        "    loss2 = F.nll_loss(sum_preds, labels+randDigits)\n",
        "    \n",
        "    loss =  ( loss1 + 2*loss2 ) \n",
        "\n",
        "    total_loss1 += loss1.item()\n",
        "    total_loss2 += loss2.item()\n",
        "    total_correct += get_num_correct(preds, labels)\n",
        "    total_sum_correct += get_num_correct(sum_preds, labels + randDigits)\n",
        "\n",
        "    optimizer.zero_grad()\n",
        "    loss.backward() # Calculate Gradients\n",
        "    optimizer.step() # Update Weights\n",
        "  \n",
        "  training_MNIST_loss.append(loss1.item())\n",
        "  training_MNIST_accuracy.append(100*total_correct/data_size)\n",
        "  training_sum_loss.append(loss2.item())\n",
        "  training_sum_accuracy.append(100*total_sum_correct/data_size)\n",
        "\n",
        "  print(\"Training: epoch %d total_correct:%.2f  total_sum_correct: %.2f\" %(epoch ,100*total_correct/data_size ,100*total_sum_correct/data_size ))\n",
        "\n",
        "def test (network, device, test_loader):\n",
        "  network.eval()\n",
        "  total_correct = 0\n",
        "  total_sum_correct = 0\n",
        "  processed = 0\n",
        "\n",
        "  with torch.no_grad():\n",
        "    for batch in test_loader:\n",
        "      images, labels = batch\n",
        "      images = images.to(device)\n",
        "      labels = labels.to(device)\n",
        "      randDigits = torch.randint(0, 10, (100,))\n",
        "      digOne = F.one_hot(randDigits, num_classes=10)\n",
        "      randDigits = randDigits.to(device)\n",
        "      digOne = digOne.to(device)\n",
        "    \n",
        "      preds, sum_preds = network(images, digOne)\n",
        "      total_correct += get_num_correct(preds, labels)\n",
        "      total_sum_correct += get_num_correct(sum_preds, labels + randDigits)\n",
        "      processed += len(labels)\n",
        "\n",
        "    testing_MNIST_accuracy.append(100*total_correct/processed)\n",
        "    testing_sum_accuracy.append(100*total_sum_correct/processed)\n",
        "    print(\"Testing: epoch %d total_correct:%.2f  total_sum_correct: %.2f\" %(epoch ,100*total_correct/processed ,100*total_sum_correct/processed ))\n"
      ],
      "execution_count": null,
      "outputs": []
    },
    {
      "cell_type": "code",
      "metadata": {
        "colab": {
          "base_uri": "https://localhost:8080/"
        },
        "id": "T8lYjrRloPcW",
        "outputId": "ffba063d-548b-453d-cfe1-c162d505d9c8"
      },
      "source": [
        "torch.set_grad_enabled(True)\n",
        "train_loader = torch.utils.data.DataLoader(train_set, batch_size=100,shuffle= True)\n",
        "test_loader = torch.utils.data.DataLoader(test_set, batch_size=100)\n",
        "optimizer = optim.SGD(network.parameters(), lr=0.01, momentum=0.9)\n",
        "\n",
        "for epoch in range(0, 50):\n",
        "    train(network, device, train_loader, optimizer, epoch)\n",
        "    test(network, device, test_loader)"
      ],
      "execution_count": null,
      "outputs": [
        {
          "output_type": "stream",
          "text": [
            "Training: epoch 0 total_correct:99.46  total_sum_correct: 80.45\n",
            "Testing: epoch 0 total_correct:99.00  total_sum_correct: 77.45\n",
            "Training: epoch 1 total_correct:99.53  total_sum_correct: 80.59\n",
            "Testing: epoch 1 total_correct:99.19  total_sum_correct: 82.47\n",
            "Training: epoch 2 total_correct:99.58  total_sum_correct: 82.74\n",
            "Testing: epoch 2 total_correct:99.13  total_sum_correct: 78.74\n",
            "Training: epoch 3 total_correct:99.58  total_sum_correct: 82.11\n",
            "Testing: epoch 3 total_correct:99.10  total_sum_correct: 81.47\n",
            "Training: epoch 4 total_correct:99.63  total_sum_correct: 83.16\n",
            "Testing: epoch 4 total_correct:99.33  total_sum_correct: 82.55\n",
            "Training: epoch 5 total_correct:99.63  total_sum_correct: 83.56\n",
            "Testing: epoch 5 total_correct:99.05  total_sum_correct: 82.02\n",
            "Training: epoch 6 total_correct:99.62  total_sum_correct: 83.69\n",
            "Testing: epoch 6 total_correct:99.22  total_sum_correct: 84.27\n",
            "Training: epoch 7 total_correct:99.67  total_sum_correct: 84.63\n",
            "Testing: epoch 7 total_correct:99.00  total_sum_correct: 81.29\n",
            "Training: epoch 8 total_correct:99.66  total_sum_correct: 84.96\n",
            "Testing: epoch 8 total_correct:99.29  total_sum_correct: 81.98\n",
            "Training: epoch 9 total_correct:99.69  total_sum_correct: 85.30\n",
            "Testing: epoch 9 total_correct:99.35  total_sum_correct: 83.68\n",
            "Training: epoch 10 total_correct:99.71  total_sum_correct: 85.97\n",
            "Testing: epoch 10 total_correct:99.22  total_sum_correct: 82.61\n",
            "Training: epoch 11 total_correct:99.69  total_sum_correct: 85.32\n",
            "Testing: epoch 11 total_correct:99.01  total_sum_correct: 84.68\n",
            "Training: epoch 12 total_correct:99.71  total_sum_correct: 86.52\n",
            "Testing: epoch 12 total_correct:99.04  total_sum_correct: 81.40\n",
            "Training: epoch 13 total_correct:99.71  total_sum_correct: 86.36\n",
            "Testing: epoch 13 total_correct:99.00  total_sum_correct: 78.48\n",
            "Training: epoch 14 total_correct:99.77  total_sum_correct: 87.65\n",
            "Testing: epoch 14 total_correct:99.13  total_sum_correct: 87.03\n",
            "Training: epoch 15 total_correct:99.75  total_sum_correct: 87.79\n",
            "Testing: epoch 15 total_correct:99.17  total_sum_correct: 86.74\n",
            "Training: epoch 16 total_correct:99.78  total_sum_correct: 88.09\n",
            "Testing: epoch 16 total_correct:99.25  total_sum_correct: 86.97\n",
            "Training: epoch 17 total_correct:99.76  total_sum_correct: 87.95\n",
            "Testing: epoch 17 total_correct:99.05  total_sum_correct: 86.71\n",
            "Training: epoch 18 total_correct:99.77  total_sum_correct: 88.33\n",
            "Testing: epoch 18 total_correct:98.91  total_sum_correct: 80.48\n",
            "Training: epoch 19 total_correct:99.78  total_sum_correct: 88.11\n",
            "Testing: epoch 19 total_correct:99.13  total_sum_correct: 82.38\n",
            "Training: epoch 20 total_correct:99.80  total_sum_correct: 88.17\n",
            "Testing: epoch 20 total_correct:99.13  total_sum_correct: 85.16\n",
            "Training: epoch 21 total_correct:99.82  total_sum_correct: 87.70\n",
            "Testing: epoch 21 total_correct:98.94  total_sum_correct: 84.34\n",
            "Training: epoch 22 total_correct:99.81  total_sum_correct: 89.56\n",
            "Testing: epoch 22 total_correct:99.01  total_sum_correct: 85.72\n",
            "Training: epoch 23 total_correct:99.83  total_sum_correct: 89.86\n",
            "Testing: epoch 23 total_correct:99.04  total_sum_correct: 85.31\n",
            "Training: epoch 24 total_correct:99.81  total_sum_correct: 88.98\n",
            "Testing: epoch 24 total_correct:99.16  total_sum_correct: 88.56\n",
            "Training: epoch 25 total_correct:99.81  total_sum_correct: 89.61\n",
            "Testing: epoch 25 total_correct:99.14  total_sum_correct: 86.44\n",
            "Training: epoch 26 total_correct:99.85  total_sum_correct: 89.14\n",
            "Testing: epoch 26 total_correct:99.11  total_sum_correct: 86.11\n",
            "Training: epoch 27 total_correct:99.83  total_sum_correct: 90.69\n",
            "Testing: epoch 27 total_correct:98.95  total_sum_correct: 86.35\n",
            "Training: epoch 28 total_correct:99.85  total_sum_correct: 90.58\n",
            "Testing: epoch 28 total_correct:99.08  total_sum_correct: 86.90\n",
            "Training: epoch 29 total_correct:99.83  total_sum_correct: 89.55\n",
            "Testing: epoch 29 total_correct:99.02  total_sum_correct: 83.90\n",
            "Training: epoch 30 total_correct:99.84  total_sum_correct: 90.67\n",
            "Testing: epoch 30 total_correct:99.03  total_sum_correct: 87.48\n",
            "Training: epoch 31 total_correct:99.85  total_sum_correct: 90.97\n",
            "Testing: epoch 31 total_correct:98.89  total_sum_correct: 84.09\n",
            "Training: epoch 32 total_correct:99.84  total_sum_correct: 91.80\n",
            "Testing: epoch 32 total_correct:98.97  total_sum_correct: 84.12\n",
            "Training: epoch 33 total_correct:99.83  total_sum_correct: 91.44\n",
            "Testing: epoch 33 total_correct:99.08  total_sum_correct: 88.78\n",
            "Training: epoch 34 total_correct:99.85  total_sum_correct: 91.56\n",
            "Testing: epoch 34 total_correct:99.06  total_sum_correct: 88.54\n",
            "Training: epoch 35 total_correct:99.86  total_sum_correct: 91.71\n",
            "Testing: epoch 35 total_correct:99.08  total_sum_correct: 88.32\n",
            "Training: epoch 36 total_correct:99.83  total_sum_correct: 91.55\n",
            "Testing: epoch 36 total_correct:99.07  total_sum_correct: 85.91\n",
            "Training: epoch 37 total_correct:99.87  total_sum_correct: 91.76\n",
            "Testing: epoch 37 total_correct:99.24  total_sum_correct: 87.36\n",
            "Training: epoch 38 total_correct:99.88  total_sum_correct: 91.52\n",
            "Testing: epoch 38 total_correct:99.14  total_sum_correct: 85.03\n",
            "Training: epoch 39 total_correct:99.89  total_sum_correct: 92.36\n",
            "Testing: epoch 39 total_correct:98.96  total_sum_correct: 81.05\n",
            "Training: epoch 40 total_correct:99.85  total_sum_correct: 90.48\n",
            "Testing: epoch 40 total_correct:99.15  total_sum_correct: 89.00\n",
            "Training: epoch 41 total_correct:99.88  total_sum_correct: 91.99\n",
            "Testing: epoch 41 total_correct:98.94  total_sum_correct: 89.04\n",
            "Training: epoch 42 total_correct:99.92  total_sum_correct: 93.51\n",
            "Testing: epoch 42 total_correct:99.10  total_sum_correct: 86.56\n",
            "Training: epoch 43 total_correct:99.89  total_sum_correct: 92.64\n",
            "Testing: epoch 43 total_correct:99.11  total_sum_correct: 87.95\n",
            "Training: epoch 44 total_correct:99.88  total_sum_correct: 92.14\n",
            "Testing: epoch 44 total_correct:99.02  total_sum_correct: 86.02\n",
            "Training: epoch 45 total_correct:99.88  total_sum_correct: 92.78\n",
            "Testing: epoch 45 total_correct:99.16  total_sum_correct: 85.26\n",
            "Training: epoch 46 total_correct:99.91  total_sum_correct: 92.28\n",
            "Testing: epoch 46 total_correct:99.03  total_sum_correct: 87.46\n",
            "Training: epoch 47 total_correct:99.89  total_sum_correct: 93.14\n",
            "Testing: epoch 47 total_correct:99.11  total_sum_correct: 85.65\n",
            "Training: epoch 48 total_correct:99.86  total_sum_correct: 92.86\n",
            "Testing: epoch 48 total_correct:98.99  total_sum_correct: 87.48\n",
            "Training: epoch 49 total_correct:99.91  total_sum_correct: 92.91\n",
            "Testing: epoch 49 total_correct:99.06  total_sum_correct: 88.31\n"
          ],
          "name": "stdout"
        }
      ]
    },
    {
      "cell_type": "code",
      "metadata": {
        "colab": {
          "base_uri": "https://localhost:8080/",
          "height": 624
        },
        "id": "UH1q7bk6yxXC",
        "outputId": "2e06a53a-cc95-4632-c7b0-0d78846133ad"
      },
      "source": [
        "fig, axs = plt.subplots(3,2,figsize=(15,10))\n",
        "axs[0, 0].plot(training_MNIST_loss)\n",
        "axs[0, 0].set_title(\"Training MNIST Loss\")\n",
        "axs[1, 0].plot(training_MNIST_accuracy)\n",
        "axs[1, 0].set_title(\"Training MNIST Accuracy\")\n",
        "axs[0, 1].plot(training_sum_loss)\n",
        "axs[0, 1].set_title(\"Training sum Loss\")\n",
        "axs[1, 1].plot(training_sum_accuracy)\n",
        "axs[1, 1].set_title(\"Training sum Accuracy\")\n",
        "axs[2, 0].plot(testing_MNIST_accuracy)\n",
        "axs[2, 0].set_title(\"Test MNIST Loss\")\n",
        "axs[2, 1].plot(testing_sum_accuracy)\n",
        "axs[2, 1].set_title(\"Test Sum Accuracy\")"
      ],
      "execution_count": null,
      "outputs": [
        {
          "output_type": "execute_result",
          "data": {
            "text/plain": [
              "Text(0.5, 1.0, 'Test Sum Accuracy')"
            ]
          },
          "metadata": {
            "tags": []
          },
          "execution_count": 16
        },
        {
          "output_type": "display_data",
          "data": {
            "image/png": "[encoded data removed]",
            "text/plain": [
              "<Figure size 1080x720 with 6 Axes>"
            ]
          },
          "metadata": {
            "tags": [],
            "needs_background": "light"
          }
        }
      ]
    }
  ]
}