{
  "nbformat": 4,
  "nbformat_minor": 0,
  "metadata": {
    "colab": {
      "name": "EVA6_Session5_CODE5.ipynb",
      "provenance": [],
      "authorship_tag": "ABX9TyNQBXH8BliTaUZ/I9zga5o+",
      "include_colab_link": true
    },
    "kernelspec": {
      "name": "python3",
      "display_name": "Python 3"
    },
    "language_info": {
      "name": "python"
    },
    "accelerator": "GPU"
  },
  "cells": [
    {
      "cell_type": "markdown",
      "metadata": {
        "id": "view-in-github",
        "colab_type": "text"
      },
      "source": [
        "<a href=\"https://colab.research.google.com/github/avichaljn97/tsai-eva6/blob/main/Assignment/EVA6_Session5_CODE5.ipynb\" target=\"_parent\"><img src=\"https://colab.research.google.com/assets/colab-badge.svg\" alt=\"Open In Colab\"/></a>"
      ]
    },
    {
      "cell_type": "code",
      "metadata": {
        "id": "7GY2yiDhakZP"
      },
      "source": [
        "from __future__ import print_function\n",
        "import torch\n",
        "import torch.nn as nn\n",
        "import torch.nn.functional as F\n",
        "import torch.optim as optim\n",
        "from torchvision import datasets, transforms\n",
        "import matplotlib.pyplot as plt\n",
        "from torch.optim.lr_scheduler import StepLR,OneCycleLR"
      ],
      "execution_count": 41,
      "outputs": []
    },
    {
      "cell_type": "code",
      "metadata": {
        "id": "7fRwuYjoauFc"
      },
      "source": [
        "# Train Phase transformations\n",
        "train_transforms = transforms.Compose([\n",
        "                                       transforms.RandomRotation((-10.0, 10.0), fill=(0,)),\n",
        "                                       transforms.ToTensor(),\n",
        "                                       transforms.Normalize((0.1307,), (0.3081,)) # The mean and std have to be sequences (e.g., tuples), therefore you should add a comma after the values. \n",
        "                                       # Note the difference between (0.1307) and (0.1307,), (0.1307,) normalizes the first layer ONLY\n",
        "                                       ])\n",
        "\n",
        "# Test Phase transformations\n",
        "test_transforms = transforms.Compose([\n",
        "                                       transforms.ToTensor(),\n",
        "                                       transforms.Normalize((0.1307,), (0.3081,))\n",
        "                                       ])"
      ],
      "execution_count": 42,
      "outputs": []
    },
    {
      "cell_type": "code",
      "metadata": {
        "id": "hYv4DgeXawVb"
      },
      "source": [
        "train = datasets.MNIST('./data', train=True, download=True, transform=train_transforms)\n",
        "test = datasets.MNIST('./data', train=False, download=True, transform=test_transforms)"
      ],
      "execution_count": 43,
      "outputs": []
    },
    {
      "cell_type": "code",
      "metadata": {
        "id": "1Zu0jpjJiuzg"
      },
      "source": [
        "def get_num_correct(preds, labels):\n",
        "  return preds.argmax(dim=1).eq(labels).sum().item()"
      ],
      "execution_count": 44,
      "outputs": []
    },
    {
      "cell_type": "code",
      "metadata": {
        "colab": {
          "base_uri": "https://localhost:8080/"
        },
        "id": "7Jes4HVTaypn",
        "outputId": "6a368350-7313-42b2-8b4c-dad42b50dc8b"
      },
      "source": [
        "SEED = 1\n",
        "\n",
        "# CUDA?\n",
        "cuda = torch.cuda.is_available()\n",
        "print(\"CUDA Available?\", cuda)\n",
        "\n",
        "# For reproducibility\n",
        "torch.manual_seed(SEED)\n",
        "\n",
        "if cuda:\n",
        "    torch.cuda.manual_seed(SEED)\n",
        "\n",
        "# dataloader arguments - something you'll fetch these from cmdprmt\n",
        "dataloader_args = dict(shuffle=True, batch_size=64, num_workers=2, pin_memory=True) if cuda else dict(shuffle=True, batch_size=64)\n",
        "\n",
        "# train dataloader\n",
        "train_loader = torch.utils.data.DataLoader(train, **dataloader_args)\n",
        "\n",
        "# test dataloader\n",
        "test_loader = torch.utils.data.DataLoader(test, **dataloader_args)"
      ],
      "execution_count": 45,
      "outputs": [
        {
          "output_type": "stream",
          "text": [
            "CUDA Available? True\n"
          ],
          "name": "stdout"
        }
      ]
    },
    {
      "cell_type": "code",
      "metadata": {
        "id": "vliowrDea5M8"
      },
      "source": [
        "dropout_value=0.01\n",
        "class Net(nn.Module):\n",
        "    def __init__(self):\n",
        "        super(Net, self).__init__()\n",
        "        \n",
        "        self.convblock1 = nn.Sequential(\n",
        "            nn.Conv2d(in_channels=1, out_channels=20, kernel_size=3, padding=0, bias=False),\n",
        "            nn.ReLU(),\n",
        "            nn.BatchNorm2d(20),\n",
        "            nn.Dropout2d(dropout_value)\n",
        "        ) # output_size = 26*26*20\n",
        "\n",
        "        self.convblock2 = nn.Sequential(\n",
        "            nn.Conv2d(in_channels=20, out_channels=10, kernel_size=3, padding=0, bias=False),\n",
        "            nn.ReLU(),\n",
        "            nn.BatchNorm2d(10),\n",
        "            nn.Dropout2d(dropout_value)\n",
        "        ) # output_size = 24*24*10\n",
        "\n",
        "        self.maxPool = nn.MaxPool2d(2,2)#output=12*12*10\n",
        "\n",
        "        self.convblock3 = nn.Sequential(\n",
        "            nn.Conv2d(in_channels=10, out_channels=15, kernel_size=3, padding=0, bias=False),\n",
        "            nn.ReLU(),\n",
        "            nn.BatchNorm2d(15),\n",
        "            nn.Dropout2d(dropout_value)\n",
        "        )#output= 10*10*15\n",
        "\n",
        "        self.convblock4 = nn.Sequential(\n",
        "            nn.Conv2d(in_channels=15, out_channels=15, kernel_size=3, padding=0, bias=False),\n",
        "            nn.ReLU(),\n",
        "            nn.BatchNorm2d(15),\n",
        "            nn.Dropout2d(dropout_value)\n",
        "        )#output = 8*8*15\n",
        "\n",
        "        self.convblock5 = nn.Sequential(\n",
        "            nn.Conv2d(in_channels=15, out_channels=15, kernel_size=3, padding=0, bias=False),\n",
        "            nn.ReLU(),\n",
        "            nn.BatchNorm2d(15),\n",
        "            nn.Dropout2d(dropout_value)\n",
        "        )#output = 6*6*15\n",
        "\n",
        "\n",
        "        self.GAP = nn.AvgPool2d(6)#output = 1*1*15\n",
        "\n",
        "        self.convblock6 = nn.Sequential(\n",
        "            nn.Conv2d(in_channels=15, out_channels=10, kernel_size=1, padding=0, bias=False)\n",
        "        )#output = 1*1*10\n",
        "\n",
        "\n",
        "    def forward(self, x):\n",
        "        \n",
        "        x = self.convblock1(x)\n",
        "        x = self.convblock2(x)\n",
        "        x = self.maxPool(x)\n",
        "        x = self.convblock3(x)\n",
        "        x = self.convblock4(x)\n",
        "        x = self.convblock5(x)\n",
        "        x = self.GAP(x)\n",
        "        x = self.convblock6(x)\n",
        "      \n",
        "        x = x.reshape(-1,10)\n",
        "\n",
        "        return F.log_softmax(x, dim=-1)"
      ],
      "execution_count": 46,
      "outputs": []
    },
    {
      "cell_type": "code",
      "metadata": {
        "colab": {
          "base_uri": "https://localhost:8080/"
        },
        "id": "2biGo0lFa8QO",
        "outputId": "b05aff02-b0ce-4011-907e-e672a7554c5b"
      },
      "source": [
        "!pip install torchsummary\n",
        "from torchsummary import summary\n",
        "use_cuda = torch.cuda.is_available()\n",
        "device = torch.device(\"cuda\" if use_cuda else \"cpu\")\n",
        "print(device)\n",
        "model = Net().to(device)\n",
        "summary(model, input_size=(1, 28, 28))"
      ],
      "execution_count": 47,
      "outputs": [
        {
          "output_type": "stream",
          "text": [
            "Requirement already satisfied: torchsummary in /usr/local/lib/python3.7/dist-packages (1.5.1)\n",
            "cuda\n",
            "----------------------------------------------------------------\n",
            "        Layer (type)               Output Shape         Param #\n",
            "================================================================\n",
            "            Conv2d-1           [-1, 20, 26, 26]             180\n",
            "              ReLU-2           [-1, 20, 26, 26]               0\n",
            "       BatchNorm2d-3           [-1, 20, 26, 26]              40\n",
            "         Dropout2d-4           [-1, 20, 26, 26]               0\n",
            "            Conv2d-5           [-1, 10, 24, 24]           1,800\n",
            "              ReLU-6           [-1, 10, 24, 24]               0\n",
            "       BatchNorm2d-7           [-1, 10, 24, 24]              20\n",
            "         Dropout2d-8           [-1, 10, 24, 24]               0\n",
            "         MaxPool2d-9           [-1, 10, 12, 12]               0\n",
            "           Conv2d-10           [-1, 15, 10, 10]           1,350\n",
            "             ReLU-11           [-1, 15, 10, 10]               0\n",
            "      BatchNorm2d-12           [-1, 15, 10, 10]              30\n",
            "        Dropout2d-13           [-1, 15, 10, 10]               0\n",
            "           Conv2d-14             [-1, 15, 8, 8]           2,025\n",
            "             ReLU-15             [-1, 15, 8, 8]               0\n",
            "      BatchNorm2d-16             [-1, 15, 8, 8]              30\n",
            "        Dropout2d-17             [-1, 15, 8, 8]               0\n",
            "           Conv2d-18             [-1, 15, 6, 6]           2,025\n",
            "             ReLU-19             [-1, 15, 6, 6]               0\n",
            "      BatchNorm2d-20             [-1, 15, 6, 6]              30\n",
            "        Dropout2d-21             [-1, 15, 6, 6]               0\n",
            "        AvgPool2d-22             [-1, 15, 1, 1]               0\n",
            "           Conv2d-23             [-1, 10, 1, 1]             150\n",
            "================================================================\n",
            "Total params: 7,680\n",
            "Trainable params: 7,680\n",
            "Non-trainable params: 0\n",
            "----------------------------------------------------------------\n",
            "Input size (MB): 0.00\n",
            "Forward/backward pass size (MB): 0.69\n",
            "Params size (MB): 0.03\n",
            "Estimated Total Size (MB): 0.72\n",
            "----------------------------------------------------------------\n"
          ],
          "name": "stdout"
        }
      ]
    },
    {
      "cell_type": "code",
      "metadata": {
        "id": "IGPyMb3la_IR"
      },
      "source": [
        "training_MNIST_loss, training_MNIST_accuracy, testing_MNIST_accuracy, testing_MNIST_loss=[], [], [], []\n",
        "\n",
        "\n",
        "def train(network, device, train_loader, optimizer, epoch):\n",
        "  network.train()\n",
        "  processed = 0\n",
        "  total_correct = 0\n",
        "  loss = 0\n",
        "\n",
        "  for batch in train_loader:\n",
        "    images, labels = batch\n",
        "    images = images.to(device)\n",
        "    labels = labels.to(device)\n",
        "\n",
        "    preds = network(images) # Pass Batch\n",
        "    loss = F.nll_loss(preds, labels) # Calculate Loss\n",
        "    training_MNIST_loss.append(loss.item())\n",
        "    \n",
        "    total_correct += get_num_correct(preds, labels)\n",
        "    processed += len(labels)\n",
        "\n",
        "    optimizer.zero_grad()\n",
        "    loss.backward() # Calculate Gradients\n",
        "    optimizer.step() # Update Weights\n",
        "  \n",
        "  training_MNIST_accuracy.append(100*total_correct/processed)\n",
        "\n",
        "  print(\"Training: loss %.6f total_correct:%.2f \" %(loss ,100*total_correct/processed ))\n",
        "\n",
        "def test (network, device, test_loader):\n",
        "  network.eval()\n",
        "  total_correct = 0\n",
        "  processed = 0\n",
        "  loss = 0\n",
        "\n",
        "  with torch.no_grad():\n",
        "    for batch in test_loader:\n",
        "      images, labels = batch\n",
        "      images = images.to(device)\n",
        "      labels = labels.to(device)\n",
        "    \n",
        "      preds = network(images)\n",
        "      total_correct += get_num_correct(preds, labels)\n",
        "      loss += F.nll_loss(preds, labels)\n",
        "      processed += len(labels)\n",
        "\n",
        "    loss = loss/len(test_loader.dataset)\n",
        "\n",
        "    testing_MNIST_accuracy.append(100*total_correct/processed)\n",
        "    testing_MNIST_loss.append(loss)\n",
        "    print('Test set: Average loss: {:.4f}, Accuracy: {}/{} ({:.2f}%)\\n'.format(\n",
        "        loss, total_correct, len(test_loader.dataset),\n",
        "        100. * total_correct / len(test_loader.dataset)))\n"
      ],
      "execution_count": 48,
      "outputs": []
    },
    {
      "cell_type": "code",
      "metadata": {
        "colab": {
          "base_uri": "https://localhost:8080/"
        },
        "id": "kMkJ54aSbBhw",
        "outputId": "c77149b2-616c-42c2-882c-aa4a8d6ca36c"
      },
      "source": [
        "model = Net().to(device)\n",
        "optimizer = optim.SGD(model.parameters(), lr=0.01, momentum=0.9)\n",
        "scheduler = StepLR(optimizer, step_size=6, gamma=0.1)\n",
        "\n",
        "for epoch in range(0, 14):\n",
        "    print(\"EPOCH:\", epoch, \"LR = \", scheduler.get_lr())\n",
        "    train(model, device, train_loader, optimizer, epoch)\n",
        "    scheduler.step()\n",
        "    test(model, device, test_loader)"
      ],
      "execution_count": 49,
      "outputs": [
        {
          "output_type": "stream",
          "text": [
            "EPOCH: 0 LR =  [0.01]\n"
          ],
          "name": "stdout"
        },
        {
          "output_type": "stream",
          "text": [
            "/usr/local/lib/python3.7/dist-packages/torch/optim/lr_scheduler.py:370: UserWarning: To get the last learning rate computed by the scheduler, please use `get_last_lr()`.\n",
            "  \"please use `get_last_lr()`.\", UserWarning)\n"
          ],
          "name": "stderr"
        },
        {
          "output_type": "stream",
          "text": [
            "Training: loss 0.090785 total_correct:90.68 \n",
            "Test set: Average loss: 0.0009, Accuracy: 9822/10000 (98.22%)\n",
            "\n",
            "EPOCH: 1 LR =  [0.01]\n",
            "Training: loss 0.266926 total_correct:97.51 \n",
            "Test set: Average loss: 0.0007, Accuracy: 9869/10000 (98.69%)\n",
            "\n",
            "EPOCH: 2 LR =  [0.01]\n",
            "Training: loss 0.019287 total_correct:97.97 \n",
            "Test set: Average loss: 0.0005, Accuracy: 9903/10000 (99.03%)\n",
            "\n",
            "EPOCH: 3 LR =  [0.01]\n",
            "Training: loss 0.004577 total_correct:98.19 \n",
            "Test set: Average loss: 0.0005, Accuracy: 9905/10000 (99.05%)\n",
            "\n",
            "EPOCH: 4 LR =  [0.01]\n",
            "Training: loss 0.140120 total_correct:98.44 \n",
            "Test set: Average loss: 0.0004, Accuracy: 9920/10000 (99.20%)\n",
            "\n",
            "EPOCH: 5 LR =  [0.01]\n",
            "Training: loss 0.017699 total_correct:98.55 \n",
            "Test set: Average loss: 0.0004, Accuracy: 9926/10000 (99.26%)\n",
            "\n",
            "EPOCH: 6 LR =  [0.0001]\n",
            "Training: loss 0.013344 total_correct:98.84 \n",
            "Test set: Average loss: 0.0003, Accuracy: 9945/10000 (99.45%)\n",
            "\n",
            "EPOCH: 7 LR =  [0.001]\n",
            "Training: loss 0.009513 total_correct:98.91 \n",
            "Test set: Average loss: 0.0003, Accuracy: 9943/10000 (99.43%)\n",
            "\n",
            "EPOCH: 8 LR =  [0.001]\n",
            "Training: loss 0.069895 total_correct:98.89 \n",
            "Test set: Average loss: 0.0003, Accuracy: 9951/10000 (99.51%)\n",
            "\n",
            "EPOCH: 9 LR =  [0.001]\n",
            "Training: loss 0.010728 total_correct:98.92 \n",
            "Test set: Average loss: 0.0003, Accuracy: 9943/10000 (99.43%)\n",
            "\n",
            "EPOCH: 10 LR =  [0.001]\n",
            "Training: loss 0.022607 total_correct:98.89 \n",
            "Test set: Average loss: 0.0003, Accuracy: 9949/10000 (99.49%)\n",
            "\n",
            "EPOCH: 11 LR =  [0.001]\n",
            "Training: loss 0.182760 total_correct:98.91 \n",
            "Test set: Average loss: 0.0003, Accuracy: 9947/10000 (99.47%)\n",
            "\n",
            "EPOCH: 12 LR =  [1e-05]\n",
            "Training: loss 0.038157 total_correct:98.96 \n",
            "Test set: Average loss: 0.0003, Accuracy: 9952/10000 (99.52%)\n",
            "\n",
            "EPOCH: 13 LR =  [0.0001]\n",
            "Training: loss 0.104649 total_correct:98.94 \n",
            "Test set: Average loss: 0.0003, Accuracy: 9945/10000 (99.45%)\n",
            "\n"
          ],
          "name": "stdout"
        }
      ]
    },
    {
      "cell_type": "code",
      "metadata": {
        "colab": {
          "base_uri": "https://localhost:8080/",
          "height": 607
        },
        "id": "_5AvVbPzI0ed",
        "outputId": "04f7b6cc-61df-4a47-b63c-3e141e4c5ed5"
      },
      "source": [
        "fig, axs = plt.subplots(2,2,figsize=(15,10))\n",
        "axs[0, 0].plot(training_MNIST_loss)\n",
        "axs[0, 0].set_title(\"Training Loss\")\n",
        "axs[1, 0].plot(training_MNIST_accuracy)\n",
        "axs[1, 0].set_title(\"Training Accuracy\")\n",
        "axs[0, 1].plot(testing_MNIST_loss)\n",
        "axs[0, 1].set_title(\"Test Loss\")\n",
        "axs[1, 1].plot(testing_MNIST_accuracy)\n",
        "axs[1, 1].set_title(\"Test Accuracy\")\n",
        "training_MNIST_loss, training_MNIST_accuracy, testing_MNIST_accuracy, testing_MNIST_loss=[], [], [], []\n"
      ],
      "execution_count": 50,
      "outputs": [
        {
          "output_type": "display_data",
          "data": {
            "image/png": "[encoded data removed]",
            "text/plain": [
              "<Figure size 1080x720 with 4 Axes>"
            ]
          },
          "metadata": {
            "tags": [],
            "needs_background": "light"
          }
        }
      ]
    }
  ]
}